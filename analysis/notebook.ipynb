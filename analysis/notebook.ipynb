{
 "cells": [
  {
   "cell_type": "code",
   "execution_count": 1,
   "id": "latest-edwards",
   "metadata": {},
   "outputs": [
    {
     "ename": "ModuleNotFoundError",
     "evalue": "No module named 'ebmdatalab'",
     "output_type": "error",
     "traceback": [
      "\u001b[0;31m---------------------------------------------------------------------------\u001b[0m",
      "\u001b[0;31mModuleNotFoundError\u001b[0m                       Traceback (most recent call last)",
      "\u001b[0;32m<ipython-input-1-96b47ce6d4b0>\u001b[0m in \u001b[0;36m<module>\u001b[0;34m\u001b[0m\n\u001b[1;32m      6\u001b[0m \u001b[0;32mimport\u001b[0m \u001b[0mpandas\u001b[0m \u001b[0;32mas\u001b[0m \u001b[0mpd\u001b[0m\u001b[0;34m\u001b[0m\u001b[0;34m\u001b[0m\u001b[0m\n\u001b[1;32m      7\u001b[0m \u001b[0;32mimport\u001b[0m \u001b[0mnumpy\u001b[0m \u001b[0;32mas\u001b[0m \u001b[0mnp\u001b[0m\u001b[0;34m\u001b[0m\u001b[0;34m\u001b[0m\u001b[0m\n\u001b[0;32m----> 8\u001b[0;31m \u001b[0;32mfrom\u001b[0m \u001b[0mutilities\u001b[0m \u001b[0;32mimport\u001b[0m \u001b[0;34m*\u001b[0m\u001b[0;34m\u001b[0m\u001b[0;34m\u001b[0m\u001b[0m\n\u001b[0m\u001b[1;32m      9\u001b[0m \u001b[0;34m\u001b[0m\u001b[0m\n\u001b[1;32m     10\u001b[0m \u001b[0mregister_matplotlib_converters\u001b[0m\u001b[0;34m(\u001b[0m\u001b[0;34m)\u001b[0m\u001b[0;34m\u001b[0m\u001b[0;34m\u001b[0m\u001b[0m\n",
      "\u001b[0;32m~/Documents/DataLab/mechanical-valve-anticoag/analysis/utilities.py\u001b[0m in \u001b[0;36m<module>\u001b[0;34m\u001b[0m\n\u001b[0;32m----> 1\u001b[0;31m \u001b[0;32mfrom\u001b[0m \u001b[0mebmdatalab\u001b[0m \u001b[0;32mimport\u001b[0m \u001b[0mcharts\u001b[0m\u001b[0;34m\u001b[0m\u001b[0;34m\u001b[0m\u001b[0m\n\u001b[0m\u001b[1;32m      2\u001b[0m \u001b[0;32mimport\u001b[0m \u001b[0mpandas\u001b[0m \u001b[0;32mas\u001b[0m \u001b[0mpd\u001b[0m\u001b[0;34m\u001b[0m\u001b[0;34m\u001b[0m\u001b[0m\n\u001b[1;32m      3\u001b[0m \u001b[0;32mimport\u001b[0m \u001b[0mmatplotlib\u001b[0m\u001b[0;34m.\u001b[0m\u001b[0mpyplot\u001b[0m \u001b[0;32mas\u001b[0m \u001b[0mplt\u001b[0m\u001b[0;34m\u001b[0m\u001b[0;34m\u001b[0m\u001b[0m\n\u001b[1;32m      4\u001b[0m \u001b[0;32mimport\u001b[0m \u001b[0mplotly\u001b[0m\u001b[0;34m.\u001b[0m\u001b[0mgraph_objects\u001b[0m \u001b[0;32mas\u001b[0m \u001b[0mgo\u001b[0m\u001b[0;34m\u001b[0m\u001b[0;34m\u001b[0m\u001b[0m\n\u001b[1;32m      5\u001b[0m \u001b[0;32mimport\u001b[0m \u001b[0mnumpy\u001b[0m \u001b[0;32mas\u001b[0m \u001b[0mnp\u001b[0m\u001b[0;34m\u001b[0m\u001b[0;34m\u001b[0m\u001b[0m\n",
      "\u001b[0;31mModuleNotFoundError\u001b[0m: No module named 'ebmdatalab'"
     ]
    }
   ],
   "source": [
    "import matplotlib.pyplot as plt\n",
    "from pandas.plotting import register_matplotlib_converters\n",
    "from IPython.display import HTML, display\n",
    "import json\n",
    "from collections import Counter\n",
    "import pandas as pd\n",
    "import numpy as np\n",
    "from utilities import *\n",
    "\n",
    "register_matplotlib_converters()\n",
    "pd.set_option('display.float_format', '{:.0f}'.format)\n",
    "pd.set_option('display.max_colwidth', 100)\n",
    "%matplotlib inline\n"
   ]
  },
  {
   "cell_type": "code",
   "execution_count": 3,
   "id": "prerequisite-newton",
   "metadata": {},
   "outputs": [],
   "source": [
    "df = pd.read_csv('../output/measure_doac_rx_mechanical_valve_rate.csv', parse_dates=['date'])\n",
    "\n",
    "def calculate_rate(df, value_col, population_col, rate_per=1000):\n",
    "    num_per_thousand = (df[value_col]/df[population_col])*rate_per\n",
    "    return num_per_thousand\n",
    "\n",
    "df['rate'] = calculate_rate(df, 'doac', 'population')\n",
    "\n",
    "codelist = pd.read_csv('../codelists/opensafely-mechanical-or-artificial-valves.csv')\n"
   ]
  },
  {
   "cell_type": "markdown",
   "id": "light-explosion",
   "metadata": {},
   "source": [
    "## DOAC Use in Patients with Mechanical Heart Valves\n"
   ]
  },
  {
   "cell_type": "markdown",
   "id": "dcf99254-244d-45f9-9a19-e6644a0fe144",
   "metadata": {},
   "source": [
    "### Total Number"
   ]
  },
  {
   "cell_type": "code",
   "execution_count": 72,
   "id": "592aa0fb-887d-4450-930b-979e8a72e624",
   "metadata": {},
   "outputs": [
    {
     "name": "stdout",
     "output_type": "stream",
     "text": [
      "         date        rate    doac  population\n",
      "0  2018-09-01  199.996160  3000.0       15000\n",
      "1  2018-10-01  199.935204  3000.0       15000\n",
      "2  2018-11-01  200.025522  3000.0       15000\n",
      "3  2018-12-01  200.006149  3000.0       15000\n",
      "4  2019-01-01  200.076851  3000.0       15000\n",
      "5  2019-02-01  199.945855  3000.0       15000\n",
      "6  2019-03-01  200.032068  3000.0       15000\n",
      "7  2019-04-01  199.996672  3000.0       15000\n",
      "8  2019-05-01  200.056408  3000.0       15000\n",
      "9  2019-06-01  200.048885  3000.0       15000\n",
      "10 2019-07-01  200.030023  3000.0       15000\n",
      "11 2019-08-01  200.024762  3000.0       15000\n",
      "12 2019-09-01  200.031428  3000.0       15000\n",
      "13 2019-10-01  200.002531  3000.0       15000\n",
      "14 2019-11-01  199.778214  3000.0       15000\n",
      "15 2019-12-01  199.958561  3000.0       15000\n",
      "16 2020-01-01  200.072716  3000.0       15000\n",
      "17 2020-02-01  199.869129  3000.0       15000\n",
      "18 2020-03-01  200.082448  3000.0       15000\n",
      "19 2020-04-01  199.922002  3000.0       15000\n",
      "20 2020-05-01  199.928872  3000.0       15000\n",
      "21 2020-06-01  199.903485  3000.0       15000\n",
      "22 2020-07-01  199.955283  3000.0       15000\n",
      "23 2020-08-01  199.979262  3000.0       15000\n",
      "24 2020-09-01  199.982501  3000.0       15000\n",
      "25 2020-10-01  199.939961  3000.0       15000\n",
      "26 2020-11-01  200.102431  3000.0       15000\n",
      "27 2020-12-01  199.960621  3000.0       15000\n",
      "28 2021-01-01  199.970050  3000.0       15000\n",
      "29 2021-02-01  200.034764  3000.0       15000\n",
      "30 2021-03-01  200.097389  3000.0       15000\n",
      "31 2021-04-01  200.033840  3000.0       15000\n",
      "32 2021-05-01  199.887292  3000.0       15000\n"
     ]
    }
   ],
   "source": [
    "population = df.groupby(by='date')[['population']].sum().reset_index()\n",
    "events = df.groupby(by='date')[['doac']].sum().reset_index()\n",
    "total_df = df.groupby(by='date')[['rate']].mean().reset_index()\n",
    "\n",
    "total_df = total_df.merge(events, on='date').merge(population, on='date')\n",
    "\n",
    "def redact_small_numbers(df, n, numerator, denominator, rate_column):\n",
    "    \"\"\"\n",
    "    Takes counts df as input and suppresses low numbers.  Sequentially redacts\n",
    "    low numbers from numerator and denominator until count of redcted values >=n.\n",
    "    Rates corresponding to redacted values are also redacted.\n",
    "    \n",
    "    df: input df\n",
    "    n: threshold for low number suppression\n",
    "    numerator: numerator column to be redacted\n",
    "    denominator: denominator column to be redacted\n",
    "    \"\"\"\n",
    "    \n",
    "    def suppress_column(column):    \n",
    "        suppressed_count = column[column<=n].sum()\n",
    "        \n",
    "        #if 0 dont need to suppress anything\n",
    "        if suppressed_count == 0:\n",
    "            pass\n",
    "        \n",
    "        else:\n",
    "            df.loc[df[column.name]<=n, column.name] = np.nan\n",
    "            \n",
    "\n",
    "            while suppressed_count <=n:\n",
    "                suppressed_count += column.min()\n",
    "                column.iloc[column.idxmin()] = np.nan   \n",
    "        return column\n",
    "    \n",
    "    \n",
    "    for column in [numerator, denominator]:\n",
    "        df[column] = suppress_column(df[column])\n",
    "    \n",
    "    df.loc[(df[numerator].isna())| (df[denominator].isna()), rate_column] = np.nan\n",
    "    \n",
    "    return df    \n",
    "\n",
    "total_df = redact_small_numbers(total_df, 10, 'doac', 'population', 'rate')\n",
    "\n",
    "\n",
    "def plot_measures(df, title,column_to_plot, filename,category=False, y_label='Rate per 1000', interactive=True):\n",
    "\n",
    "    if interactive:\n",
    "\n",
    "        fig = go.Figure()\n",
    "\n",
    "        if category:\n",
    "            for unique_category in df[category].unique():\n",
    "\n",
    "                df_subset = df[df[category] == unique_category]\n",
    "                fig.add_trace(go.Scatter(\n",
    "                    x=df_subset['date'], y=df_subset[column_to_plot], name=unique_category))\n",
    "\n",
    "        else:\n",
    "            fig.add_trace(go.Scatter(\n",
    "                x=df['date'], y=df[column_to_plot]))\n",
    "\n",
    "        # Set title\n",
    "        fig.update_layout(\n",
    "            title_text=title,\n",
    "            hovermode='x',\n",
    "            title_x=0.5,\n",
    "            yaxis=dict(\n",
    "            range=[0, 7000]\n",
    "        )\n",
    "\n",
    "\n",
    "        )\n",
    "\n",
    "        fig.update_yaxes(title=y_label)\n",
    "        fig.update_xaxes(title=\"Date\")\n",
    "\n",
    "        # Add range slider\n",
    "        fig.update_layout(\n",
    "            xaxis=go.layout.XAxis(\n",
    "                rangeselector=dict(\n",
    "                    buttons=list([\n",
    "                        dict(count=1,\n",
    "                            label=\"1m\",\n",
    "                            step=\"month\",\n",
    "                            stepmode=\"backward\"),\n",
    "                        dict(count=6,\n",
    "                            label=\"6m\",\n",
    "                            step=\"month\",\n",
    "                            stepmode=\"backward\"),\n",
    "\n",
    "                        dict(count=1,\n",
    "                            label=\"1y\",\n",
    "                            step=\"year\",\n",
    "                            stepmode=\"backward\"),\n",
    "                        dict(step=\"all\")\n",
    "                    ])\n",
    "                ),\n",
    "                rangeslider=dict(\n",
    "                    visible=True\n",
    "                ),\n",
    "                type=\"date\"\n",
    "            )\n",
    "        )\n",
    "\n",
    "        fig.show()\n",
    "\n",
    "    else:\n",
    "\n",
    "        if category:\n",
    "            for unique_category in df[category].unique():\n",
    "\n",
    "                df_subset = df[df[category] == unique_category]\n",
    "\n",
    "                plt.plot(df_subset['date'], df_subset[column_to_plot], marker='o')\n",
    "        else:\n",
    "            plt.plot(df['date'], df[column_to_plot])\n",
    "\n",
    "        plt.ylabel(y_label)\n",
    "        plt.xlabel('Date')\n",
    "        plt.ylim(bottom=0, top=df[column_to_plot].max() + df[column_to_plot].max()* 0.1)\n",
    "        plt.xticks(rotation='vertical')\n",
    "        plt.title(title)\n",
    "\n",
    "        if category:\n",
    "            plt.legend(df[category].unique(), bbox_to_anchor=(\n",
    "                1.04, 1), loc=\"upper left\")\n",
    "\n",
    "        else:\n",
    "            pass\n",
    "        plt.savefig(f'../output/measure_{filename}.jpeg')\n",
    "        plt.show()\n",
    "        \n",
    "        plt.clf()"
   ]
  },
  {
   "cell_type": "code",
   "execution_count": 70,
   "id": "87656f4b-0bf3-4d30-a219-e99fe60f8d02",
   "metadata": {},
   "outputs": [
    {
     "data": {
      "image/png": "[encoded data removed]",
      "text/plain": [
       "<Figure size 432x288 with 1 Axes>"
      ]
     },
     "metadata": {
      "needs_background": "light"
     },
     "output_type": "display_data"
    },
    {
     "data": {
      "text/plain": [
       "<Figure size 432x288 with 0 Axes>"
      ]
     },
     "metadata": {},
     "output_type": "display_data"
    }
   ],
   "source": [
    "plot_measures(total_df, title='DOAC prescribing rate per 1000 patients with a mechanical valve', column_to_plot='rate', category=False, y_label='Rate per 1000', interactive=False, filename=\"total\")\n"
   ]
  },
  {
   "cell_type": "markdown",
   "id": "faced-soldier",
   "metadata": {},
   "source": [
    "### STP Breakdown"
   ]
  },
  {
   "cell_type": "code",
   "execution_count": 71,
   "id": "administrative-sodium",
   "metadata": {
    "code_folding": []
   },
   "outputs": [
    {
     "name": "stdout",
     "output_type": "stream",
     "text": [
      "       stp   doac  population     value       date\n",
      "0     STP1  292.0        1451  0.201241 2018-09-01\n",
      "1    STP10  275.0        1427  0.192712 2018-09-01\n",
      "2     STP2  321.0        1503  0.213573 2018-09-01\n",
      "3     STP3  285.0        1539  0.185185 2018-09-01\n",
      "4     STP4  304.0        1526  0.199214 2018-09-01\n",
      "..     ...    ...         ...       ...        ...\n",
      "325   STP5  286.0        1503  0.190286 2021-05-01\n",
      "326   STP6  302.0        1470  0.205442 2021-05-01\n",
      "327   STP7  274.0        1472  0.186141 2021-05-01\n",
      "328   STP8  344.0        1553  0.221507 2021-05-01\n",
      "329   STP9  277.0        1461  0.189596 2021-05-01\n",
      "\n",
      "[330 rows x 5 columns]\n"
     ]
    },
    {
     "ename": "TypeError",
     "evalue": "redact_small_numbers() missing 3 required positional arguments: 'numerator', 'denominator', and 'rate_column'",
     "output_type": "error",
     "traceback": [
      "\u001b[0;31m---------------------------------------------------------------------------\u001b[0m",
      "\u001b[0;31mTypeError\u001b[0m                                 Traceback (most recent call last)",
      "\u001b[0;32m<ipython-input-71-d968a8be1569>\u001b[0m in \u001b[0;36m<module>\u001b[0;34m\u001b[0m\n\u001b[1;32m      3\u001b[0m \u001b[0mdf_stp\u001b[0m\u001b[0;34m[\u001b[0m\u001b[0;34m'rate'\u001b[0m\u001b[0;34m]\u001b[0m \u001b[0;34m=\u001b[0m \u001b[0mcalculate_rate\u001b[0m\u001b[0;34m(\u001b[0m\u001b[0mdf_stp\u001b[0m\u001b[0;34m,\u001b[0m \u001b[0;34m'doac'\u001b[0m\u001b[0;34m,\u001b[0m \u001b[0;34m'population'\u001b[0m\u001b[0;34m)\u001b[0m\u001b[0;34m\u001b[0m\u001b[0;34m\u001b[0m\u001b[0m\n\u001b[1;32m      4\u001b[0m \u001b[0;34m\u001b[0m\u001b[0m\n\u001b[0;32m----> 5\u001b[0;31m \u001b[0mdf_stp\u001b[0m \u001b[0;34m=\u001b[0m \u001b[0mredact_small_numbers\u001b[0m\u001b[0;34m(\u001b[0m\u001b[0mdf_stp\u001b[0m\u001b[0;34m,\u001b[0m \u001b[0;34m''\u001b[0m\u001b[0;34m)\u001b[0m\u001b[0;34m\u001b[0m\u001b[0;34m\u001b[0m\u001b[0m\n\u001b[0m\u001b[1;32m      6\u001b[0m \u001b[0;34m\u001b[0m\u001b[0m\n\u001b[1;32m      7\u001b[0m \u001b[0mdeciles_chart\u001b[0m\u001b[0;34m(\u001b[0m\u001b[0mdf_stp\u001b[0m\u001b[0;34m,\u001b[0m \u001b[0mperiod_column\u001b[0m\u001b[0;34m=\u001b[0m\u001b[0;34m'date'\u001b[0m\u001b[0;34m,\u001b[0m \u001b[0mcolumn\u001b[0m\u001b[0;34m=\u001b[0m\u001b[0;34m'rate'\u001b[0m\u001b[0;34m,\u001b[0m \u001b[0mtitle\u001b[0m\u001b[0;34m=\u001b[0m\u001b[0;34m'Decile chart'\u001b[0m\u001b[0;34m,\u001b[0m\u001b[0mylabel\u001b[0m\u001b[0;34m=\u001b[0m\u001b[0;34m'rate per 1000'\u001b[0m\u001b[0;34m,\u001b[0m \u001b[0minteractive\u001b[0m\u001b[0;34m=\u001b[0m\u001b[0;32mFalse\u001b[0m\u001b[0;34m)\u001b[0m\u001b[0;34m\u001b[0m\u001b[0;34m\u001b[0m\u001b[0m\n",
      "\u001b[0;31mTypeError\u001b[0m: redact_small_numbers() missing 3 required positional arguments: 'numerator', 'denominator', and 'rate_column'"
     ]
    }
   ],
   "source": [
    "df_stp = pd.read_csv('../output/measure_stp_rate.csv', parse_dates=['date'])\n",
    "\n",
    "df_stp['rate'] = calculate_rate(df_stp, 'doac', 'population')\n",
    "\n",
    "df_stp = redact_small_numbers(df_stp, 10, 'doac', 'population', 'rate')\n",
    "\n",
    "deciles_chart(df_stp, period_column='date', column='rate', title='Decile chart',ylabel='rate per 1000', interactive=False)\n",
    "plt.tight_layout()\n",
    "plt.savefig('../output/measure_stp.jpeg')"
   ]
  },
  {
   "cell_type": "markdown",
   "id": "def15f80-c9bd-4516-bf75-b6e33bb96766",
   "metadata": {},
   "source": [
    "### Mechanical Valve Type\n",
    "\n",
    "Mechanical valve type of those with mechanical valve currently prescribed a DOAC"
   ]
  },
  {
   "cell_type": "code",
   "execution_count": 159,
   "id": "6c7b9ba2-c046-4e35-8cc8-01856d59e88b",
   "metadata": {},
   "outputs": [],
   "source": [
    "def group_low_values_mv(df, value_col, population_col, term_col):\n",
    "    \n",
    "    df = df[df[value_col] > 0]\n",
    "    suppressed_count = df.loc[df[value_col]<=5, value_col].sum()\n",
    "    population_suppressed_count = df.loc[df[value_col]<=5, population_col].sum()\n",
    "    \n",
    "    if suppressed_count == 0:\n",
    "        pass\n",
    "\n",
    "    else:\n",
    "        df.loc[df[value_col] <=5, value_col]  = np.nan\n",
    "\n",
    "        while suppressed_count <=5:\n",
    "            suppressed_count += df[value_col].min()\n",
    "            df.loc[df[value_col].idxmin(), value_col] = np.nan \n",
    "            \n",
    "            population_suppressed_count += df.loc[df[value_col].idxmin(), population_col]\n",
    "   \n",
    "        df = df[df[value_col].notnull()]\n",
    "\n",
    "        other_row = {'mechanical_valve_code':'Other', 'doac_3_months':suppressed_count, 'population':population_suppressed_count, 'term':'-'}\n",
    "        df = df.append(other_row, ignore_index=True)\n",
    "    \n",
    "    \n",
    "    return df"
   ]
  },
  {
   "cell_type": "code",
   "execution_count": 160,
   "id": "e05557e3-e396-4ae0-831f-7fef379eacc7",
   "metadata": {},
   "outputs": [
    {
     "name": "stdout",
     "output_type": "stream",
     "text": [
      "0.0\n"
     ]
    }
   ],
   "source": [
    "valve_type_df = pd.read_csv('../output/measure_doac_rx_mechanical_valve_3_month_valve_code_rate.csv', parse_dates=['date'])\n",
    "\n",
    "\n",
    "valve_type_df_now = valve_type_df[valve_type_df['date']== '2021-05-01']\n",
    "valve_type_df_now = valve_type_df_now.drop('value', axis=1)\n",
    "\n",
    "valve_type_df_now = valve_type_df_now.merge(codelist, left_on='mechanical_valve_code', right_on='code', how='left')\n",
    "valve_type_df_now = valve_type_df_now.drop(columns=['code', 'date'])\n",
    "valve_type_df_now = group_low_values_mv(valve_type_df_now, 'doac_3_months', 'population', 'term')\n",
    "valve_type_df_now.to_csv('../output/current_doac_valve_type.csv')"
   ]
  },
  {
   "cell_type": "code",
   "execution_count": 161,
   "id": "863d8066-fade-428c-978e-367647f3f2ab",
   "metadata": {},
   "outputs": [
    {
     "data": {
      "text/html": [
       "<div>\n",
       "<style scoped>\n",
       "    .dataframe tbody tr th:only-of-type {\n",
       "        vertical-align: middle;\n",
       "    }\n",
       "\n",
       "    .dataframe tbody tr th {\n",
       "        vertical-align: top;\n",
       "    }\n",
       "\n",
       "    .dataframe thead th {\n",
       "        text-align: right;\n",
       "    }\n",
       "</style>\n",
       "<table border=\"1\" class=\"dataframe\">\n",
       "  <thead>\n",
       "    <tr style=\"text-align: right;\">\n",
       "      <th></th>\n",
       "      <th>mechanical_valve_code</th>\n",
       "      <th>doac_3_months</th>\n",
       "      <th>population</th>\n",
       "      <th>term</th>\n",
       "    </tr>\n",
       "  </thead>\n",
       "  <tbody>\n",
       "    <tr>\n",
       "      <th>0</th>\n",
       "      <td>NaN</td>\n",
       "      <td>2412.0</td>\n",
       "      <td>12000</td>\n",
       "      <td>NaN</td>\n",
       "    </tr>\n",
       "    <tr>\n",
       "      <th>1</th>\n",
       "      <td>174920003.0</td>\n",
       "      <td>588.0</td>\n",
       "      <td>3000</td>\n",
       "      <td>Prosthetic mitral valve replacement (&amp; [Bjork ...</td>\n",
       "    </tr>\n",
       "  </tbody>\n",
       "</table>\n",
       "</div>"
      ],
      "text/plain": [
       "   mechanical_valve_code  doac_3_months  population  \\\n",
       "0                    NaN         2412.0       12000   \n",
       "1            174920003.0          588.0        3000   \n",
       "\n",
       "                                                term  \n",
       "0                                                NaN  \n",
       "1  Prosthetic mitral valve replacement (& [Bjork ...  "
      ]
     },
     "execution_count": 161,
     "metadata": {},
     "output_type": "execute_result"
    }
   ],
   "source": [
    "valve_type_df_now"
   ]
  },
  {
   "cell_type": "markdown",
   "id": "impossible-walnut",
   "metadata": {},
   "source": [
    "### Demographic breakdown"
   ]
  },
  {
   "cell_type": "markdown",
   "id": "enabling-respect",
   "metadata": {},
   "source": [
    "#### Sex"
   ]
  },
  {
   "cell_type": "code",
   "execution_count": 193,
   "id": "d8b713be-4654-4b6d-aba8-31a0e6ba44ee",
   "metadata": {},
   "outputs": [],
   "source": [
    "def group_low_values_dems(df, value_col, population_col, demographic):\n",
    "    \n",
    "    df = df[df[value_col] > 0]\n",
    "    suppressed_count = df.loc[df[value_col]<=5, value_col].sum()\n",
    "    population_suppressed_count = df.loc[df[value_col]<=5, population_col].sum()\n",
    "   \n",
    "    if suppressed_count == 0:\n",
    "        pass\n",
    "\n",
    "    else:\n",
    "        df.loc[df[value_col] <=5, value_col]  = np.nan\n",
    "\n",
    "        while suppressed_count <=5:\n",
    "            suppressed_count += df[value_col].min()\n",
    "            df.loc[df[value_col].idxmin(), value_col] = np.nan \n",
    "            \n",
    "            population_suppressed_count += df.loc[df[value_col].idxmin(), population_col]\n",
    "   \n",
    "        df = df[df[value_col].notnull()]\n",
    "\n",
    "        other_row = {demographic:'Other', 'doac_3_months':suppressed_count, 'population':population_suppressed_count,}\n",
    "        df = df.append(other_row, ignore_index=True)\n",
    "    \n",
    "    \n",
    "    return df"
   ]
  },
  {
   "cell_type": "code",
   "execution_count": 194,
   "id": "e595db2d-9396-46b2-ac4a-90e3ef6899ce",
   "metadata": {},
   "outputs": [
    {
     "data": {
      "text/html": [
       "<div>\n",
       "<style scoped>\n",
       "    .dataframe tbody tr th:only-of-type {\n",
       "        vertical-align: middle;\n",
       "    }\n",
       "\n",
       "    .dataframe tbody tr th {\n",
       "        vertical-align: top;\n",
       "    }\n",
       "\n",
       "    .dataframe thead th {\n",
       "        text-align: right;\n",
       "    }\n",
       "</style>\n",
       "<table border=\"1\" class=\"dataframe\">\n",
       "  <thead>\n",
       "    <tr style=\"text-align: right;\">\n",
       "      <th></th>\n",
       "      <th>sex</th>\n",
       "      <th>doac_3_months</th>\n",
       "      <th>population</th>\n",
       "      <th>date</th>\n",
       "    </tr>\n",
       "  </thead>\n",
       "  <tbody>\n",
       "    <tr>\n",
       "      <th>96</th>\n",
       "      <td>F</td>\n",
       "      <td>1531.0</td>\n",
       "      <td>7522</td>\n",
       "      <td>2021-05-01</td>\n",
       "    </tr>\n",
       "    <tr>\n",
       "      <th>97</th>\n",
       "      <td>M</td>\n",
       "      <td>1446.0</td>\n",
       "      <td>7335</td>\n",
       "      <td>2021-05-01</td>\n",
       "    </tr>\n",
       "    <tr>\n",
       "      <th>98</th>\n",
       "      <td>U</td>\n",
       "      <td>23.0</td>\n",
       "      <td>143</td>\n",
       "      <td>2021-05-01</td>\n",
       "    </tr>\n",
       "  </tbody>\n",
       "</table>\n",
       "</div>"
      ],
      "text/plain": [
       "   sex  doac_3_months  population       date\n",
       "96   F         1531.0        7522 2021-05-01\n",
       "97   M         1446.0        7335 2021-05-01\n",
       "98   U           23.0         143 2021-05-01"
      ]
     },
     "execution_count": 194,
     "metadata": {},
     "output_type": "execute_result"
    }
   ],
   "source": [
    "sex_df = pd.read_csv('../output/measure_doac_rx_mechanical_valve_3_month_sex_rate.csv', parse_dates=['date'])\n",
    "\n",
    "sex_df_now = sex_df[sex_df['date'] == '2021-05-01']\n",
    "sex_df_now = sex_df_now.drop(['value', 'date'], axis=1)\n",
    "sex_df_now = group_low_values_dems(sex_df_now, 'doac_3_months', 'population', 'sex')\n",
    "sex_df_now.to_csv('../output/current_doac_sex.csv')\n",
    "sex_df_now\n"
   ]
  },
  {
   "cell_type": "markdown",
   "id": "peripheral-joseph",
   "metadata": {},
   "source": [
    "#### Ethnicity"
   ]
  },
  {
   "cell_type": "code",
   "execution_count": 195,
   "id": "df2ee528-1173-480e-a8f6-0c011db81502",
   "metadata": {},
   "outputs": [
    {
     "name": "stdout",
     "output_type": "stream",
     "text": [
      "     eth2001  doac_3_months  population     value       date\n",
      "0        NaN         2700.0       13482  0.200267 2018-09-01\n",
      "1        1.0          158.0         786  0.201018 2018-09-01\n",
      "2        2.0           73.0         361  0.202216 2018-09-01\n",
      "3        3.0           38.0         187  0.203209 2018-09-01\n",
      "4        4.0           17.0         103  0.165049 2018-09-01\n",
      "..       ...            ...         ...       ...        ...\n",
      "292      4.0           24.0         107  0.224299 2021-05-01\n",
      "293      5.0           17.0          57  0.298246 2021-05-01\n",
      "294      6.0            8.0          38  0.210526 2021-05-01\n",
      "295      7.0            1.0          12  0.083333 2021-05-01\n",
      "296      8.0            0.0           5  0.000000 2021-05-01\n",
      "\n",
      "[297 rows x 5 columns]\n"
     ]
    },
    {
     "name": "stderr",
     "output_type": "stream",
     "text": [
      "/usr/local/lib/python3.9/site-packages/pandas/core/indexing.py:1720: SettingWithCopyWarning: \n",
      "A value is trying to be set on a copy of a slice from a DataFrame.\n",
      "Try using .loc[row_indexer,col_indexer] = value instead\n",
      "\n",
      "See the caveats in the documentation: https://pandas.pydata.org/pandas-docs/stable/user_guide/indexing.html#returning-a-view-versus-a-copy\n",
      "  self._setitem_single_column(loc, value, pi)\n"
     ]
    },
    {
     "ename": "KeyError",
     "evalue": "'doac_3_months'",
     "output_type": "error",
     "traceback": [
      "\u001b[0;31m---------------------------------------------------------------------------\u001b[0m",
      "\u001b[0;31mKeyError\u001b[0m                                  Traceback (most recent call last)",
      "\u001b[0;32m/usr/local/lib/python3.9/site-packages/pandas/core/indexes/base.py\u001b[0m in \u001b[0;36mget_loc\u001b[0;34m(self, key, method, tolerance)\u001b[0m\n\u001b[1;32m   3079\u001b[0m             \u001b[0;32mtry\u001b[0m\u001b[0;34m:\u001b[0m\u001b[0;34m\u001b[0m\u001b[0;34m\u001b[0m\u001b[0m\n\u001b[0;32m-> 3080\u001b[0;31m                 \u001b[0;32mreturn\u001b[0m \u001b[0mself\u001b[0m\u001b[0;34m.\u001b[0m\u001b[0m_engine\u001b[0m\u001b[0;34m.\u001b[0m\u001b[0mget_loc\u001b[0m\u001b[0;34m(\u001b[0m\u001b[0mcasted_key\u001b[0m\u001b[0;34m)\u001b[0m\u001b[0;34m\u001b[0m\u001b[0;34m\u001b[0m\u001b[0m\n\u001b[0m\u001b[1;32m   3081\u001b[0m             \u001b[0;32mexcept\u001b[0m \u001b[0mKeyError\u001b[0m \u001b[0;32mas\u001b[0m \u001b[0merr\u001b[0m\u001b[0;34m:\u001b[0m\u001b[0;34m\u001b[0m\u001b[0;34m\u001b[0m\u001b[0m\n",
      "\u001b[0;32mpandas/_libs/index.pyx\u001b[0m in \u001b[0;36mpandas._libs.index.IndexEngine.get_loc\u001b[0;34m()\u001b[0m\n",
      "\u001b[0;32mpandas/_libs/index.pyx\u001b[0m in \u001b[0;36mpandas._libs.index.IndexEngine.get_loc\u001b[0;34m()\u001b[0m\n",
      "\u001b[0;32mpandas/_libs/index_class_helper.pxi\u001b[0m in \u001b[0;36mpandas._libs.index.Int64Engine._check_type\u001b[0;34m()\u001b[0m\n",
      "\u001b[0;31mKeyError\u001b[0m: 'doac_3_months'",
      "\nThe above exception was the direct cause of the following exception:\n",
      "\u001b[0;31mKeyError\u001b[0m                                  Traceback (most recent call last)",
      "\u001b[0;32m<ipython-input-195-2bb70c0836c0>\u001b[0m in \u001b[0;36m<module>\u001b[0;34m\u001b[0m\n\u001b[1;32m      3\u001b[0m \u001b[0methnicity_df_now\u001b[0m \u001b[0;34m=\u001b[0m \u001b[0methnicity_df\u001b[0m\u001b[0;34m[\u001b[0m\u001b[0methnicity_df\u001b[0m\u001b[0;34m[\u001b[0m\u001b[0;34m'date'\u001b[0m\u001b[0;34m]\u001b[0m \u001b[0;34m==\u001b[0m \u001b[0;34m'2021-05-01'\u001b[0m\u001b[0;34m]\u001b[0m\u001b[0;34m\u001b[0m\u001b[0;34m\u001b[0m\u001b[0m\n\u001b[1;32m      4\u001b[0m \u001b[0methnicity_df_now\u001b[0m \u001b[0;34m=\u001b[0m \u001b[0methnicity_df_now\u001b[0m\u001b[0;34m.\u001b[0m\u001b[0mdrop\u001b[0m\u001b[0;34m(\u001b[0m\u001b[0;34m'value'\u001b[0m\u001b[0;34m,\u001b[0m \u001b[0maxis\u001b[0m\u001b[0;34m=\u001b[0m\u001b[0;36m1\u001b[0m\u001b[0;34m)\u001b[0m\u001b[0;34m\u001b[0m\u001b[0;34m\u001b[0m\u001b[0m\n\u001b[0;32m----> 5\u001b[0;31m \u001b[0methnicity_df_now\u001b[0m \u001b[0;34m=\u001b[0m \u001b[0mgroup_low_values_dems\u001b[0m\u001b[0;34m(\u001b[0m\u001b[0methnicity_df_now\u001b[0m\u001b[0;34m,\u001b[0m \u001b[0;34m'doac_3_months'\u001b[0m\u001b[0;34m,\u001b[0m \u001b[0;34m'population'\u001b[0m\u001b[0;34m,\u001b[0m \u001b[0;34m'eth2001'\u001b[0m\u001b[0;34m)\u001b[0m\u001b[0;34m\u001b[0m\u001b[0;34m\u001b[0m\u001b[0m\n\u001b[0m\u001b[1;32m      6\u001b[0m \u001b[0methnicity_df_now\u001b[0m\u001b[0;34m\u001b[0m\u001b[0;34m\u001b[0m\u001b[0m\n",
      "\u001b[0;32m<ipython-input-193-c0bbe78a2072>\u001b[0m in \u001b[0;36mgroup_low_values_dems\u001b[0;34m(df, value_col, population_col, demographic)\u001b[0m\n\u001b[1;32m     12\u001b[0m \u001b[0;34m\u001b[0m\u001b[0m\n\u001b[1;32m     13\u001b[0m         \u001b[0;32mwhile\u001b[0m \u001b[0msuppressed_count\u001b[0m \u001b[0;34m<=\u001b[0m\u001b[0;36m5\u001b[0m\u001b[0;34m:\u001b[0m\u001b[0;34m\u001b[0m\u001b[0;34m\u001b[0m\u001b[0m\n\u001b[0;32m---> 14\u001b[0;31m             \u001b[0msuppressed_count\u001b[0m \u001b[0;34m+=\u001b[0m \u001b[0mdf\u001b[0m\u001b[0;34m.\u001b[0m\u001b[0mloc\u001b[0m\u001b[0;34m[\u001b[0m\u001b[0mvalue_col\u001b[0m\u001b[0;34m]\u001b[0m\u001b[0;34m.\u001b[0m\u001b[0mmin\u001b[0m\u001b[0;34m(\u001b[0m\u001b[0;34m)\u001b[0m\u001b[0;34m\u001b[0m\u001b[0;34m\u001b[0m\u001b[0m\n\u001b[0m\u001b[1;32m     15\u001b[0m             \u001b[0mdf\u001b[0m\u001b[0;34m.\u001b[0m\u001b[0mloc\u001b[0m\u001b[0;34m[\u001b[0m\u001b[0mdf\u001b[0m\u001b[0;34m[\u001b[0m\u001b[0mvalue_col\u001b[0m\u001b[0;34m]\u001b[0m\u001b[0;34m.\u001b[0m\u001b[0midxmin\u001b[0m\u001b[0;34m(\u001b[0m\u001b[0;34m)\u001b[0m\u001b[0;34m,\u001b[0m \u001b[0mvalue_col\u001b[0m\u001b[0;34m]\u001b[0m \u001b[0;34m=\u001b[0m \u001b[0mnp\u001b[0m\u001b[0;34m.\u001b[0m\u001b[0mnan\u001b[0m\u001b[0;34m\u001b[0m\u001b[0;34m\u001b[0m\u001b[0m\n\u001b[1;32m     16\u001b[0m \u001b[0;34m\u001b[0m\u001b[0m\n",
      "\u001b[0;32m/usr/local/lib/python3.9/site-packages/pandas/core/indexing.py\u001b[0m in \u001b[0;36m__getitem__\u001b[0;34m(self, key)\u001b[0m\n\u001b[1;32m    893\u001b[0m \u001b[0;34m\u001b[0m\u001b[0m\n\u001b[1;32m    894\u001b[0m             \u001b[0mmaybe_callable\u001b[0m \u001b[0;34m=\u001b[0m \u001b[0mcom\u001b[0m\u001b[0;34m.\u001b[0m\u001b[0mapply_if_callable\u001b[0m\u001b[0;34m(\u001b[0m\u001b[0mkey\u001b[0m\u001b[0;34m,\u001b[0m \u001b[0mself\u001b[0m\u001b[0;34m.\u001b[0m\u001b[0mobj\u001b[0m\u001b[0;34m)\u001b[0m\u001b[0;34m\u001b[0m\u001b[0;34m\u001b[0m\u001b[0m\n\u001b[0;32m--> 895\u001b[0;31m             \u001b[0;32mreturn\u001b[0m \u001b[0mself\u001b[0m\u001b[0;34m.\u001b[0m\u001b[0m_getitem_axis\u001b[0m\u001b[0;34m(\u001b[0m\u001b[0mmaybe_callable\u001b[0m\u001b[0;34m,\u001b[0m \u001b[0maxis\u001b[0m\u001b[0;34m=\u001b[0m\u001b[0maxis\u001b[0m\u001b[0;34m)\u001b[0m\u001b[0;34m\u001b[0m\u001b[0;34m\u001b[0m\u001b[0m\n\u001b[0m\u001b[1;32m    896\u001b[0m \u001b[0;34m\u001b[0m\u001b[0m\n\u001b[1;32m    897\u001b[0m     \u001b[0;32mdef\u001b[0m \u001b[0m_is_scalar_access\u001b[0m\u001b[0;34m(\u001b[0m\u001b[0mself\u001b[0m\u001b[0;34m,\u001b[0m \u001b[0mkey\u001b[0m\u001b[0;34m:\u001b[0m \u001b[0mTuple\u001b[0m\u001b[0;34m)\u001b[0m\u001b[0;34m:\u001b[0m\u001b[0;34m\u001b[0m\u001b[0;34m\u001b[0m\u001b[0m\n",
      "\u001b[0;32m/usr/local/lib/python3.9/site-packages/pandas/core/indexing.py\u001b[0m in \u001b[0;36m_getitem_axis\u001b[0;34m(self, key, axis)\u001b[0m\n\u001b[1;32m   1122\u001b[0m         \u001b[0;31m# fall thru to straight lookup\u001b[0m\u001b[0;34m\u001b[0m\u001b[0;34m\u001b[0m\u001b[0;34m\u001b[0m\u001b[0m\n\u001b[1;32m   1123\u001b[0m         \u001b[0mself\u001b[0m\u001b[0;34m.\u001b[0m\u001b[0m_validate_key\u001b[0m\u001b[0;34m(\u001b[0m\u001b[0mkey\u001b[0m\u001b[0;34m,\u001b[0m \u001b[0maxis\u001b[0m\u001b[0;34m)\u001b[0m\u001b[0;34m\u001b[0m\u001b[0;34m\u001b[0m\u001b[0m\n\u001b[0;32m-> 1124\u001b[0;31m         \u001b[0;32mreturn\u001b[0m \u001b[0mself\u001b[0m\u001b[0;34m.\u001b[0m\u001b[0m_get_label\u001b[0m\u001b[0;34m(\u001b[0m\u001b[0mkey\u001b[0m\u001b[0;34m,\u001b[0m \u001b[0maxis\u001b[0m\u001b[0;34m=\u001b[0m\u001b[0maxis\u001b[0m\u001b[0;34m)\u001b[0m\u001b[0;34m\u001b[0m\u001b[0;34m\u001b[0m\u001b[0m\n\u001b[0m\u001b[1;32m   1125\u001b[0m \u001b[0;34m\u001b[0m\u001b[0m\n\u001b[1;32m   1126\u001b[0m     \u001b[0;32mdef\u001b[0m \u001b[0m_get_slice_axis\u001b[0m\u001b[0;34m(\u001b[0m\u001b[0mself\u001b[0m\u001b[0;34m,\u001b[0m \u001b[0mslice_obj\u001b[0m\u001b[0;34m:\u001b[0m \u001b[0mslice\u001b[0m\u001b[0;34m,\u001b[0m \u001b[0maxis\u001b[0m\u001b[0;34m:\u001b[0m \u001b[0mint\u001b[0m\u001b[0;34m)\u001b[0m\u001b[0;34m:\u001b[0m\u001b[0;34m\u001b[0m\u001b[0;34m\u001b[0m\u001b[0m\n",
      "\u001b[0;32m/usr/local/lib/python3.9/site-packages/pandas/core/indexing.py\u001b[0m in \u001b[0;36m_get_label\u001b[0;34m(self, label, axis)\u001b[0m\n\u001b[1;32m   1071\u001b[0m     \u001b[0;32mdef\u001b[0m \u001b[0m_get_label\u001b[0m\u001b[0;34m(\u001b[0m\u001b[0mself\u001b[0m\u001b[0;34m,\u001b[0m \u001b[0mlabel\u001b[0m\u001b[0;34m,\u001b[0m \u001b[0maxis\u001b[0m\u001b[0;34m:\u001b[0m \u001b[0mint\u001b[0m\u001b[0;34m)\u001b[0m\u001b[0;34m:\u001b[0m\u001b[0;34m\u001b[0m\u001b[0;34m\u001b[0m\u001b[0m\n\u001b[1;32m   1072\u001b[0m         \u001b[0;31m# GH#5667 this will fail if the label is not present in the axis.\u001b[0m\u001b[0;34m\u001b[0m\u001b[0;34m\u001b[0m\u001b[0;34m\u001b[0m\u001b[0m\n\u001b[0;32m-> 1073\u001b[0;31m         \u001b[0;32mreturn\u001b[0m \u001b[0mself\u001b[0m\u001b[0;34m.\u001b[0m\u001b[0mobj\u001b[0m\u001b[0;34m.\u001b[0m\u001b[0mxs\u001b[0m\u001b[0;34m(\u001b[0m\u001b[0mlabel\u001b[0m\u001b[0;34m,\u001b[0m \u001b[0maxis\u001b[0m\u001b[0;34m=\u001b[0m\u001b[0maxis\u001b[0m\u001b[0;34m)\u001b[0m\u001b[0;34m\u001b[0m\u001b[0;34m\u001b[0m\u001b[0m\n\u001b[0m\u001b[1;32m   1074\u001b[0m \u001b[0;34m\u001b[0m\u001b[0m\n\u001b[1;32m   1075\u001b[0m     \u001b[0;32mdef\u001b[0m \u001b[0m_handle_lowerdim_multi_index_axis0\u001b[0m\u001b[0;34m(\u001b[0m\u001b[0mself\u001b[0m\u001b[0;34m,\u001b[0m \u001b[0mtup\u001b[0m\u001b[0;34m:\u001b[0m \u001b[0mTuple\u001b[0m\u001b[0;34m)\u001b[0m\u001b[0;34m:\u001b[0m\u001b[0;34m\u001b[0m\u001b[0;34m\u001b[0m\u001b[0m\n",
      "\u001b[0;32m/usr/local/lib/python3.9/site-packages/pandas/core/generic.py\u001b[0m in \u001b[0;36mxs\u001b[0;34m(self, key, axis, level, drop_level)\u001b[0m\n\u001b[1;32m   3737\u001b[0m                 \u001b[0;32mraise\u001b[0m \u001b[0mTypeError\u001b[0m\u001b[0;34m(\u001b[0m\u001b[0;34mf\"Expected label or tuple of labels, got {key}\"\u001b[0m\u001b[0;34m)\u001b[0m \u001b[0;32mfrom\u001b[0m \u001b[0me\u001b[0m\u001b[0;34m\u001b[0m\u001b[0;34m\u001b[0m\u001b[0m\n\u001b[1;32m   3738\u001b[0m         \u001b[0;32melse\u001b[0m\u001b[0;34m:\u001b[0m\u001b[0;34m\u001b[0m\u001b[0;34m\u001b[0m\u001b[0m\n\u001b[0;32m-> 3739\u001b[0;31m             \u001b[0mloc\u001b[0m \u001b[0;34m=\u001b[0m \u001b[0mindex\u001b[0m\u001b[0;34m.\u001b[0m\u001b[0mget_loc\u001b[0m\u001b[0;34m(\u001b[0m\u001b[0mkey\u001b[0m\u001b[0;34m)\u001b[0m\u001b[0;34m\u001b[0m\u001b[0;34m\u001b[0m\u001b[0m\n\u001b[0m\u001b[1;32m   3740\u001b[0m \u001b[0;34m\u001b[0m\u001b[0m\n\u001b[1;32m   3741\u001b[0m             \u001b[0;32mif\u001b[0m \u001b[0misinstance\u001b[0m\u001b[0;34m(\u001b[0m\u001b[0mloc\u001b[0m\u001b[0;34m,\u001b[0m \u001b[0mnp\u001b[0m\u001b[0;34m.\u001b[0m\u001b[0mndarray\u001b[0m\u001b[0;34m)\u001b[0m\u001b[0;34m:\u001b[0m\u001b[0;34m\u001b[0m\u001b[0;34m\u001b[0m\u001b[0m\n",
      "\u001b[0;32m/usr/local/lib/python3.9/site-packages/pandas/core/indexes/base.py\u001b[0m in \u001b[0;36mget_loc\u001b[0;34m(self, key, method, tolerance)\u001b[0m\n\u001b[1;32m   3080\u001b[0m                 \u001b[0;32mreturn\u001b[0m \u001b[0mself\u001b[0m\u001b[0;34m.\u001b[0m\u001b[0m_engine\u001b[0m\u001b[0;34m.\u001b[0m\u001b[0mget_loc\u001b[0m\u001b[0;34m(\u001b[0m\u001b[0mcasted_key\u001b[0m\u001b[0;34m)\u001b[0m\u001b[0;34m\u001b[0m\u001b[0;34m\u001b[0m\u001b[0m\n\u001b[1;32m   3081\u001b[0m             \u001b[0;32mexcept\u001b[0m \u001b[0mKeyError\u001b[0m \u001b[0;32mas\u001b[0m \u001b[0merr\u001b[0m\u001b[0;34m:\u001b[0m\u001b[0;34m\u001b[0m\u001b[0;34m\u001b[0m\u001b[0m\n\u001b[0;32m-> 3082\u001b[0;31m                 \u001b[0;32mraise\u001b[0m \u001b[0mKeyError\u001b[0m\u001b[0;34m(\u001b[0m\u001b[0mkey\u001b[0m\u001b[0;34m)\u001b[0m \u001b[0;32mfrom\u001b[0m \u001b[0merr\u001b[0m\u001b[0;34m\u001b[0m\u001b[0;34m\u001b[0m\u001b[0m\n\u001b[0m\u001b[1;32m   3083\u001b[0m \u001b[0;34m\u001b[0m\u001b[0m\n\u001b[1;32m   3084\u001b[0m         \u001b[0;32mif\u001b[0m \u001b[0mtolerance\u001b[0m \u001b[0;32mis\u001b[0m \u001b[0;32mnot\u001b[0m \u001b[0;32mNone\u001b[0m\u001b[0;34m:\u001b[0m\u001b[0;34m\u001b[0m\u001b[0;34m\u001b[0m\u001b[0m\n",
      "\u001b[0;31mKeyError\u001b[0m: 'doac_3_months'"
     ]
    }
   ],
   "source": [
    "ethnicity_df = pd.read_csv('../output/measure_doac_rx_mechanical_valve_3_month_ethnicity_rate.csv', parse_dates=['date'])\n",
    "ethnicity_df_now = ethnicity_df[ethnicity_df['date'] == '2021-05-01']\n",
    "ethnicity_df_now = ethnicity_df_now.drop(['value', 'date'], axis=1)\n",
    "ethnicity_df_now = group_low_values_dems(ethnicity_df_now, 'doac_3_months', 'population', 'eth2001')\n",
    "ethnicity_df_now.to_csv('../output/current_doac_ethnicity.csv')\n",
    "ethnicity_df_now\n"
   ]
  },
  {
   "cell_type": "markdown",
   "id": "operational-lambda",
   "metadata": {},
   "source": [
    "#### Age Band"
   ]
  },
  {
   "cell_type": "code",
   "execution_count": 188,
   "id": "d2e751c5-f9c2-442b-9624-8fd41f284817",
   "metadata": {},
   "outputs": [
    {
     "data": {
      "text/html": [
       "<div>\n",
       "<style scoped>\n",
       "    .dataframe tbody tr th:only-of-type {\n",
       "        vertical-align: middle;\n",
       "    }\n",
       "\n",
       "    .dataframe tbody tr th {\n",
       "        vertical-align: top;\n",
       "    }\n",
       "\n",
       "    .dataframe thead th {\n",
       "        text-align: right;\n",
       "    }\n",
       "</style>\n",
       "<table border=\"1\" class=\"dataframe\">\n",
       "  <thead>\n",
       "    <tr style=\"text-align: right;\">\n",
       "      <th></th>\n",
       "      <th>age_band</th>\n",
       "      <th>doac_3_months</th>\n",
       "      <th>population</th>\n",
       "      <th>date</th>\n",
       "    </tr>\n",
       "  </thead>\n",
       "  <tbody>\n",
       "    <tr>\n",
       "      <th>0</th>\n",
       "      <td>0-19</td>\n",
       "      <td>357.0</td>\n",
       "      <td>1867</td>\n",
       "      <td>2021-05-01 00:00:00</td>\n",
       "    </tr>\n",
       "    <tr>\n",
       "      <th>1</th>\n",
       "      <td>20-29</td>\n",
       "      <td>370.0</td>\n",
       "      <td>1878</td>\n",
       "      <td>2021-05-01 00:00:00</td>\n",
       "    </tr>\n",
       "    <tr>\n",
       "      <th>2</th>\n",
       "      <td>30-39</td>\n",
       "      <td>387.0</td>\n",
       "      <td>1877</td>\n",
       "      <td>2021-05-01 00:00:00</td>\n",
       "    </tr>\n",
       "    <tr>\n",
       "      <th>3</th>\n",
       "      <td>40-49</td>\n",
       "      <td>392.0</td>\n",
       "      <td>1904</td>\n",
       "      <td>2021-05-01 00:00:00</td>\n",
       "    </tr>\n",
       "    <tr>\n",
       "      <th>4</th>\n",
       "      <td>50-59</td>\n",
       "      <td>392.0</td>\n",
       "      <td>1871</td>\n",
       "      <td>2021-05-01 00:00:00</td>\n",
       "    </tr>\n",
       "    <tr>\n",
       "      <th>5</th>\n",
       "      <td>70-79</td>\n",
       "      <td>377.0</td>\n",
       "      <td>1889</td>\n",
       "      <td>2021-05-01 00:00:00</td>\n",
       "    </tr>\n",
       "    <tr>\n",
       "      <th>6</th>\n",
       "      <td>80+</td>\n",
       "      <td>388.0</td>\n",
       "      <td>1899</td>\n",
       "      <td>2021-05-01 00:00:00</td>\n",
       "    </tr>\n",
       "    <tr>\n",
       "      <th>7</th>\n",
       "      <td>Other</td>\n",
       "      <td>337.0</td>\n",
       "      <td>1888</td>\n",
       "      <td>NaN</td>\n",
       "    </tr>\n",
       "  </tbody>\n",
       "</table>\n",
       "</div>"
      ],
      "text/plain": [
       "  age_band  doac_3_months  population                 date\n",
       "0     0-19          357.0        1867  2021-05-01 00:00:00\n",
       "1    20-29          370.0        1878  2021-05-01 00:00:00\n",
       "2    30-39          387.0        1877  2021-05-01 00:00:00\n",
       "3    40-49          392.0        1904  2021-05-01 00:00:00\n",
       "4    50-59          392.0        1871  2021-05-01 00:00:00\n",
       "5    70-79          377.0        1889  2021-05-01 00:00:00\n",
       "6      80+          388.0        1899  2021-05-01 00:00:00\n",
       "7    Other          337.0        1888                  NaN"
      ]
     },
     "execution_count": 188,
     "metadata": {},
     "output_type": "execute_result"
    }
   ],
   "source": [
    "age_df = pd.read_csv('../output/measure_doac_rx_mechanical_valve_3_month_age_rate.csv', parse_dates=['date'])\n",
    "\n",
    "age_df_now = age_df[age_df['date'] == '2021-05-01']\n",
    "age_df_now = age_df_now.drop(['value', 'date'], axis=1)\n",
    "age_df_now = group_low_values_dems(age_df_now, 'doac_3_months', 'population', 'age_band')\n",
    "age_df_now.to_csv('../output/current_doac_age.csv')\n",
    "age_df_now"
   ]
  }
 ],
 "metadata": {
  "kernelspec": {
   "display_name": "Python 3",
   "language": "python",
   "name": "python3"
  },
  "language_info": {
   "codemirror_mode": {
    "name": "ipython",
    "version": 3
   },
   "file_extension": ".py",
   "mimetype": "text/x-python",
   "name": "python",
   "nbconvert_exporter": "python",
   "pygments_lexer": "ipython3",
   "version": "3.9.2"
  }
 },
 "nbformat": 4,
 "nbformat_minor": 5
}
