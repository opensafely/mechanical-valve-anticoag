{
 "cells": [
  {
   "cell_type": "code",
   "execution_count": 1,
   "id": "8b9b0a4a",
   "metadata": {},
   "outputs": [
    {
     "ename": "ModuleNotFoundError",
     "evalue": "No module named 'ebmdatalab'",
     "output_type": "error",
     "traceback": [
      "\u001b[0;31m---------------------------------------------------------------------------\u001b[0m",
      "\u001b[0;31mModuleNotFoundError\u001b[0m                       Traceback (most recent call last)",
      "\u001b[0;32m<ipython-input-1-96b47ce6d4b0>\u001b[0m in \u001b[0;36m<module>\u001b[0;34m\u001b[0m\n\u001b[1;32m      6\u001b[0m \u001b[0;32mimport\u001b[0m \u001b[0mpandas\u001b[0m \u001b[0;32mas\u001b[0m \u001b[0mpd\u001b[0m\u001b[0;34m\u001b[0m\u001b[0;34m\u001b[0m\u001b[0m\n\u001b[1;32m      7\u001b[0m \u001b[0;32mimport\u001b[0m \u001b[0mnumpy\u001b[0m \u001b[0;32mas\u001b[0m \u001b[0mnp\u001b[0m\u001b[0;34m\u001b[0m\u001b[0;34m\u001b[0m\u001b[0m\n\u001b[0;32m----> 8\u001b[0;31m \u001b[0;32mfrom\u001b[0m \u001b[0mutilities\u001b[0m \u001b[0;32mimport\u001b[0m \u001b[0;34m*\u001b[0m\u001b[0;34m\u001b[0m\u001b[0;34m\u001b[0m\u001b[0m\n\u001b[0m\u001b[1;32m      9\u001b[0m \u001b[0;34m\u001b[0m\u001b[0m\n\u001b[1;32m     10\u001b[0m \u001b[0mregister_matplotlib_converters\u001b[0m\u001b[0;34m(\u001b[0m\u001b[0;34m)\u001b[0m\u001b[0;34m\u001b[0m\u001b[0;34m\u001b[0m\u001b[0m\n",
      "\u001b[0;32m~/Documents/DataLab/projects/mechanical-valve-anticoag/analysis/utilities.py\u001b[0m in \u001b[0;36m<module>\u001b[0;34m\u001b[0m\n\u001b[0;32m----> 1\u001b[0;31m \u001b[0;32mfrom\u001b[0m \u001b[0mebmdatalab\u001b[0m \u001b[0;32mimport\u001b[0m \u001b[0mcharts\u001b[0m\u001b[0;34m\u001b[0m\u001b[0;34m\u001b[0m\u001b[0m\n\u001b[0m\u001b[1;32m      2\u001b[0m \u001b[0;32mimport\u001b[0m \u001b[0mpandas\u001b[0m \u001b[0;32mas\u001b[0m \u001b[0mpd\u001b[0m\u001b[0;34m\u001b[0m\u001b[0;34m\u001b[0m\u001b[0m\n\u001b[1;32m      3\u001b[0m \u001b[0;32mimport\u001b[0m \u001b[0mmatplotlib\u001b[0m\u001b[0;34m.\u001b[0m\u001b[0mpyplot\u001b[0m \u001b[0;32mas\u001b[0m \u001b[0mplt\u001b[0m\u001b[0;34m\u001b[0m\u001b[0;34m\u001b[0m\u001b[0m\n\u001b[1;32m      4\u001b[0m \u001b[0;32mimport\u001b[0m \u001b[0mplotly\u001b[0m\u001b[0;34m.\u001b[0m\u001b[0mgraph_objects\u001b[0m \u001b[0;32mas\u001b[0m \u001b[0mgo\u001b[0m\u001b[0;34m\u001b[0m\u001b[0;34m\u001b[0m\u001b[0m\n\u001b[1;32m      5\u001b[0m \u001b[0;32mimport\u001b[0m \u001b[0mnumpy\u001b[0m \u001b[0;32mas\u001b[0m \u001b[0mnp\u001b[0m\u001b[0;34m\u001b[0m\u001b[0;34m\u001b[0m\u001b[0m\n",
      "\u001b[0;31mModuleNotFoundError\u001b[0m: No module named 'ebmdatalab'"
     ]
    }
   ],
   "source": [
    "import matplotlib.pyplot as plt\n",
    "from pandas.plotting import register_matplotlib_converters\n",
    "from IPython.display import HTML, display\n",
    "import json\n",
    "from collections import Counter\n",
    "import pandas as pd\n",
    "import numpy as np\n",
    "from utilities import *\n",
    "\n",
    "register_matplotlib_converters()\n",
    "pd.set_option('display.float_format', '{:.0f}'.format)\n",
    "pd.set_option('display.max_colwidth', 100)\n",
    "%matplotlib inline\n"
   ]
  },
  {
   "cell_type": "code",
   "execution_count": null,
   "id": "f2e01b05",
   "metadata": {},
   "outputs": [],
   "source": [
    "df = pd.read_csv('../output/measure_doac_rx_mechanical_valve_rate.csv', parse_dates=['date'])\n",
    "\n",
    "def calculate_rate(df, value_col, population_col, rate_per=1000):\n",
    "    num_per_thousand = (df[value_col]/df[population_col])*rate_per\n",
    "    return num_per_thousand\n",
    "\n",
    "df['rate'] = calculate_rate(df, 'doac', 'population')\n",
    "\n",
    "codelist = pd.read_csv('../codelists/opensafely-mechanical-or-artificial-valves.csv')\n"
   ]
  },
  {
   "cell_type": "markdown",
   "id": "929f2034",
   "metadata": {},
   "source": [
    "## DOAC Use in Patients with Mechanical Heart Valves\n"
   ]
  },
  {
   "cell_type": "markdown",
   "id": "1adcf4eb",
   "metadata": {},
   "source": [
    "### Total Number"
   ]
  },
  {
   "cell_type": "code",
   "execution_count": null,
   "id": "4ee01d2a",
   "metadata": {
    "tags": [
     "outputPrepend"
    ]
   },
   "outputs": [],
   "source": [
    "def redact_small_numbers(df, n, numerator, denominator, rate_column):\n",
    "    \"\"\"\n",
    "    Takes counts df as input and suppresses low numbers.  Sequentially redacts\n",
    "    low numbers from numerator and denominator until count of redcted values >=n.\n",
    "    Rates corresponding to redacted values are also redacted.\n",
    "    \n",
    "    df: input df\n",
    "    n: threshold for low number suppression\n",
    "    numerator: numerator column to be redacted\n",
    "    denominator: denominator column to be redacted\n",
    "    \"\"\"\n",
    "    \n",
    "    def suppress_column(column):    \n",
    "        suppressed_count = column[column<=n].sum()\n",
    "        \n",
    "        #if 0 dont need to suppress anything\n",
    "        if suppressed_count == 0:\n",
    "            pass\n",
    "        \n",
    "        else:\n",
    "            column[column<=n] = np.nan\n",
    "            \n",
    "\n",
    "            while suppressed_count <=n:\n",
    "                suppressed_count += column.min()\n",
    "                column.iloc[column.idxmin()] = np.nan   \n",
    "        return column\n",
    "    \n",
    "    \n",
    "    for column in [numerator, denominator]:\n",
    "        df[column] = suppress_column(df[column])\n",
    "    \n",
    "    df.loc[(df[numerator].isna())| (df[denominator].isna()), rate_column] = np.nan\n",
    "    \n",
    "    return df\n",
    "\n",
    "population = df.groupby(by='date')[['population']].sum().reset_index()\n",
    "events = df.groupby(by='date')[['doac']].sum().reset_index()\n",
    "total_df = df.groupby(by='date')[['rate']].mean().reset_index()\n",
    "\n",
    "total_df = total_df.merge(events, on='date').merge(population, on='date')\n",
    "\n",
    "\n",
    "redacted_dfs = []\n",
    "for date in total_df['date'].unique():\n",
    "    \n",
    "    sub_df = total_df.loc[total_df['date']==date, :]\n",
    "\n",
    "    sub_df = redact_small_numbers(sub_df, 5, 'doac', 'population', 'rate')\n",
    "    redacted_dfs.append(sub_df)\n",
    "\n",
    "total_df = pd.concat(redacted_dfs, axis=0)\n",
    "total_df.to_csv('../output/doac_rate_total.csv')\n",
    "\n",
    "\n",
    "\n",
    "\n",
    "# total_df = redact_small_numbers(total_df, 10, 'doac', 'population', 'rate')\n",
    "\n",
    "\n",
    "def plot_measures(df, title,column_to_plot, filename,category=False, y_label='Rate per 1000', interactive=True):\n",
    "\n",
    "    if category:\n",
    "        for unique_category in df[category].unique():\n",
    "\n",
    "            df_subset = df[df[category] == unique_category]\n",
    "\n",
    "            plt.plot(df_subset['date'], df_subset[column_to_plot], marker='o')\n",
    "    else:\n",
    "        plt.plot(df['date'], df[column_to_plot])\n",
    "\n",
    "    plt.ylabel(y_label)\n",
    "    plt.xlabel('Date')\n",
    "    plt.ylim(bottom=0, top=df[column_to_plot].max() + df[column_to_plot].max()* 0.1)\n",
    "    plt.xticks(rotation='vertical')\n",
    "    plt.title(title)\n",
    "\n",
    "    if category:\n",
    "        plt.legend(df[category].unique(), bbox_to_anchor=(\n",
    "            1.04, 1), loc=\"upper left\")\n",
    "\n",
    "    else:\n",
    "        pass\n",
    "    plt.savefig(f'../output/measure_{filename}.jpeg')\n",
    "    plt.show()\n",
    "    \n",
    "    plt.clf()"
   ]
  },
  {
   "cell_type": "code",
   "execution_count": null,
   "id": "5cbb8b2a",
   "metadata": {},
   "outputs": [],
   "source": [
    "plot_measures(total_df, title='DOAC prescribing in patients with a mechanical valve', column_to_plot='doac', category=False, y_label='Total number', interactive=False, filename=\"total\")\n"
   ]
  },
  {
   "cell_type": "code",
   "execution_count": null,
   "id": "664d7403",
   "metadata": {},
   "outputs": [],
   "source": [
    "plot_measures(total_df, title='DOAC prescribing rate per 1000 patients with a mechanical valve', column_to_plot='rate', category=False, y_label='Rate per 1000', interactive=False, filename=\"total_rate\")"
   ]
  },
  {
   "cell_type": "markdown",
   "id": "a45e91e1",
   "metadata": {},
   "source": [
    "### Mechanical Valve Type\n",
    "\n",
    "Mechanical valve type of those with mechanical valve currently prescribed a DOAC"
   ]
  },
  {
   "cell_type": "code",
   "execution_count": null,
   "id": "4d21ee77",
   "metadata": {},
   "outputs": [],
   "source": [
    "def group_low_values_mv(df, value_col, population_col, term_col):\n",
    "    \n",
    "    suppressed_count = df.loc[df[value_col]<=5, value_col].sum()\n",
    "    population_suppressed_count = df.loc[df[value_col]<=5, population_col].sum()\n",
    "    \n",
    "    if suppressed_count == 0:\n",
    "        pass\n",
    "\n",
    "    else:\n",
    "        df.loc[df[value_col] <=5, value_col]  = np.nan\n",
    "\n",
    "        while suppressed_count <=5:\n",
    "            suppressed_count += df[value_col].min()\n",
    "            df.loc[df[value_col].idxmin(), value_col] = np.nan \n",
    "            \n",
    "            population_suppressed_count += df.loc[df[value_col].idxmin(), population_col]\n",
    "   \n",
    "        df = df[df[value_col].notnull()]\n",
    "\n",
    "        other_row = {'mechanical_valve_code':'Other', 'doac_3_months':suppressed_count, 'population':population_suppressed_count, 'term':'-'}\n",
    "        df = df.append(other_row, ignore_index=True)\n",
    "    \n",
    "    \n",
    "    return df"
   ]
  },
  {
   "cell_type": "code",
   "execution_count": null,
   "id": "4f477f5d",
   "metadata": {},
   "outputs": [],
   "source": [
    "valve_type_df = pd.read_csv('../output/measure_doac_rx_mechanical_valve_3_month_valve_code_rate.csv', parse_dates=['date'])\n",
    "\n",
    "\n",
    "valve_type_df_now = valve_type_df[valve_type_df['date']== '2021-05-01']\n",
    "valve_type_df_now = valve_type_df_now.drop('value', axis=1)\n",
    "\n",
    "valve_type_df_now = valve_type_df_now.merge(codelist, left_on='mechanical_valve_code', right_on='code', how='left')\n",
    "valve_type_df_now = valve_type_df_now.drop(columns=['code', 'date'])\n",
    "valve_type_df_now = group_low_values_mv(valve_type_df_now, 'doac_3_months', 'population', 'term')\n",
    "valve_type_df_now.to_csv('../output/current_doac_valve_type.csv')"
   ]
  },
  {
   "cell_type": "code",
   "execution_count": null,
   "id": "1b1d52f6",
   "metadata": {},
   "outputs": [],
   "source": [
    "valve_type_df_now"
   ]
  },
  {
   "cell_type": "markdown",
   "id": "7bc5a9c4",
   "metadata": {},
   "source": [
    "### Demographic breakdown"
   ]
  },
  {
   "cell_type": "markdown",
   "id": "808fd3dd",
   "metadata": {},
   "source": [
    "#### Sex"
   ]
  },
  {
   "cell_type": "code",
   "execution_count": null,
   "id": "68749d05",
   "metadata": {},
   "outputs": [],
   "source": [
    "def group_low_values_dems(df, value_col, population_col, demographic):\n",
    "    \n",
    "   \n",
    "    suppressed_count = df.loc[df[value_col]<=5, value_col].sum()\n",
    "    population_suppressed_count = df.loc[df[value_col]<=5, population_col].sum()\n",
    "   \n",
    "    if suppressed_count == 0:\n",
    "        pass\n",
    "\n",
    "    else:\n",
    "        df.loc[df[value_col] <=5, value_col]  = np.nan\n",
    "\n",
    "        while suppressed_count <=5:\n",
    "            suppressed_count += df[value_col].min()\n",
    "            df.loc[df[value_col].idxmin(), value_col] = np.nan \n",
    "            \n",
    "            population_suppressed_count += df.loc[df[value_col].idxmin(), population_col]\n",
    "   \n",
    "        df = df[df[value_col].notnull()]\n",
    "\n",
    "        other_row = {demographic:'Other', 'doac_3_months':suppressed_count, 'population':population_suppressed_count,}\n",
    "        df = df.append(other_row, ignore_index=True)\n",
    "    \n",
    "    \n",
    "    return df"
   ]
  },
  {
   "cell_type": "code",
   "execution_count": null,
   "id": "9e9728b5",
   "metadata": {},
   "outputs": [],
   "source": [
    "sex_df = pd.read_csv('../output/measure_doac_rx_mechanical_valve_3_month_sex_rate.csv', parse_dates=['date'])\n",
    "\n",
    "sex_df_now = sex_df[sex_df['date'] == '2021-05-01']\n",
    "sex_df_now = sex_df_now.drop(['value', 'date'], axis=1)\n",
    "sex_df_now = group_low_values_dems(sex_df_now, 'doac_3_months', 'population', 'sex')\n",
    "sex_df_now.to_csv('../output/current_doac_sex.csv')\n",
    "sex_df_now\n"
   ]
  },
  {
   "cell_type": "markdown",
   "id": "df992773",
   "metadata": {},
   "source": [
    "#### Ethnicity"
   ]
  },
  {
   "cell_type": "code",
   "execution_count": null,
   "id": "20c9c9fe",
   "metadata": {},
   "outputs": [],
   "source": [
    "ethnicity_df = pd.read_csv('../output/measure_doac_rx_mechanical_valve_3_month_ethnicity_rate.csv', parse_dates=['date'])\n",
    "ethnicity_df_now = ethnicity_df[ethnicity_df['date'] == '2021-05-01']\n",
    "ethnicity_df_now = ethnicity_df_now.drop(['value', 'date'], axis=1)\n",
    "\n",
    "ethnicity_df_now = group_low_values_dems(ethnicity_df_now, 'doac_3_months', 'population', 'eth2001')\n",
    "ethnicity_df_now.to_csv('../output/current_doac_ethnicity.csv')\n",
    "ethnicity_df_now\n"
   ]
  },
  {
   "cell_type": "markdown",
   "id": "d1106bc3",
   "metadata": {},
   "source": [
    "#### Age Band"
   ]
  },
  {
   "cell_type": "code",
   "execution_count": null,
   "id": "616b657c",
   "metadata": {},
   "outputs": [],
   "source": [
    "age_df = pd.read_csv('../output/measure_doac_rx_mechanical_valve_3_month_age_rate.csv', parse_dates=['date'])\n",
    "\n",
    "age_df_now = age_df[age_df['date'] == '2021-05-01']\n",
    "age_df_now = age_df_now.drop(['value', 'date'], axis=1)\n",
    "age_df_now = group_low_values_dems(age_df_now, 'doac_3_months', 'population', 'age_band')\n",
    "age_df_now.to_csv('../output/current_doac_age.csv')\n",
    "age_df_now"
   ]
  },
  {
   "cell_type": "markdown",
   "id": "5544f0e8",
   "metadata": {},
   "source": [
    "### IMD"
   ]
  },
  {
   "cell_type": "code",
   "execution_count": null,
   "id": "96f8f037",
   "metadata": {},
   "outputs": [],
   "source": [
    "imd_df = pd.read_csv('../output/measure_doac_rx_mechanical_valve_3_month_imd_rate.csv', parse_dates=['date'])\n",
    "\n",
    "imd_df_now = imd_df[imd_df['date'] == '2021-05-01']\n",
    "imd_df_now = imd_df_now.drop(['value', 'date'], axis=1)\n",
    "imd_df_now = group_low_values_dems(imd_df_now, 'doac_3_months', 'population', 'imd')\n",
    "imd_df_now.to_csv('../output/current_doac_imd.csv')\n",
    "imd_df_now"
   ]
  },
  {
   "cell_type": "markdown",
   "id": "632e4eed",
   "metadata": {},
   "source": [
    "### AF"
   ]
  },
  {
   "cell_type": "code",
   "execution_count": null,
   "id": "3d199993",
   "metadata": {},
   "outputs": [],
   "source": [
    "af_df = pd.read_csv('../output/measure_doac_rx_mechanical_valve_3_month_af_rate.csv', parse_dates=['date'])\n",
    "\n",
    "af_df_now = af_df[af_df['date'] == '2021-05-01']\n",
    "af_df_now = af_df_now.drop(['value', 'date'], axis=1)\n",
    "af_df_now = group_low_values_dems(af_df_now, 'doac_3_months', 'population', 'atrial_fib')\n",
    "af_df_now.to_csv('../output/current_doac_af.csv')\n",
    "af_df_now"
   ]
  }
 ],
 "metadata": {
  "interpreter": {
   "hash": "aee8b7b246df8f9039afb4144a1f6fd8d2ca17a180786b69acc140d282b71a49"
  },
  "kernelspec": {
   "display_name": "Python 3",
   "language": "python",
   "name": "python3"
  },
  "language_info": {
   "codemirror_mode": {
    "name": "ipython",
    "version": 3
   },
   "file_extension": ".py",
   "mimetype": "text/x-python",
   "name": "python",
   "nbconvert_exporter": "python",
   "pygments_lexer": "ipython3",
   "version": "3.9.5"
  }
 },
 "nbformat": 4,
 "nbformat_minor": 5
}
