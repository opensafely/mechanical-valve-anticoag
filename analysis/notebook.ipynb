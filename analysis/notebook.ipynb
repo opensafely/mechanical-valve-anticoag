{
 "cells": [
  {
   "cell_type": "code",
   "execution_count": 22,
   "id": "latest-edwards",
   "metadata": {},
   "outputs": [
    {
     "ename": "ModuleNotFoundError",
     "evalue": "No module named 'ebmdatalab'",
     "output_type": "error",
     "traceback": [
      "\u001b[0;31m---------------------------------------------------------------------------\u001b[0m",
      "\u001b[0;31mModuleNotFoundError\u001b[0m                       Traceback (most recent call last)",
      "\u001b[0;32m<ipython-input-22-96b47ce6d4b0>\u001b[0m in \u001b[0;36m<module>\u001b[0;34m\u001b[0m\n\u001b[1;32m      6\u001b[0m \u001b[0;32mimport\u001b[0m \u001b[0mpandas\u001b[0m \u001b[0;32mas\u001b[0m \u001b[0mpd\u001b[0m\u001b[0;34m\u001b[0m\u001b[0;34m\u001b[0m\u001b[0m\n\u001b[1;32m      7\u001b[0m \u001b[0;32mimport\u001b[0m \u001b[0mnumpy\u001b[0m \u001b[0;32mas\u001b[0m \u001b[0mnp\u001b[0m\u001b[0;34m\u001b[0m\u001b[0;34m\u001b[0m\u001b[0m\n\u001b[0;32m----> 8\u001b[0;31m \u001b[0;32mfrom\u001b[0m \u001b[0mutilities\u001b[0m \u001b[0;32mimport\u001b[0m \u001b[0;34m*\u001b[0m\u001b[0;34m\u001b[0m\u001b[0;34m\u001b[0m\u001b[0m\n\u001b[0m\u001b[1;32m      9\u001b[0m \u001b[0;34m\u001b[0m\u001b[0m\n\u001b[1;32m     10\u001b[0m \u001b[0mregister_matplotlib_converters\u001b[0m\u001b[0;34m(\u001b[0m\u001b[0;34m)\u001b[0m\u001b[0;34m\u001b[0m\u001b[0;34m\u001b[0m\u001b[0m\n",
      "\u001b[0;32m~/Documents/DataLab/mechanical-valve-anticoag/analysis/utilities.py\u001b[0m in \u001b[0;36m<module>\u001b[0;34m\u001b[0m\n\u001b[0;32m----> 1\u001b[0;31m \u001b[0;32mfrom\u001b[0m \u001b[0mebmdatalab\u001b[0m \u001b[0;32mimport\u001b[0m \u001b[0mcharts\u001b[0m\u001b[0;34m\u001b[0m\u001b[0;34m\u001b[0m\u001b[0m\n\u001b[0m\u001b[1;32m      2\u001b[0m \u001b[0;32mimport\u001b[0m \u001b[0mpandas\u001b[0m \u001b[0;32mas\u001b[0m \u001b[0mpd\u001b[0m\u001b[0;34m\u001b[0m\u001b[0;34m\u001b[0m\u001b[0m\n\u001b[1;32m      3\u001b[0m \u001b[0;32mimport\u001b[0m \u001b[0mmatplotlib\u001b[0m\u001b[0;34m.\u001b[0m\u001b[0mpyplot\u001b[0m \u001b[0;32mas\u001b[0m \u001b[0mplt\u001b[0m\u001b[0;34m\u001b[0m\u001b[0;34m\u001b[0m\u001b[0m\n\u001b[1;32m      4\u001b[0m \u001b[0;32mimport\u001b[0m \u001b[0mplotly\u001b[0m\u001b[0;34m.\u001b[0m\u001b[0mgraph_objects\u001b[0m \u001b[0;32mas\u001b[0m \u001b[0mgo\u001b[0m\u001b[0;34m\u001b[0m\u001b[0;34m\u001b[0m\u001b[0m\n\u001b[1;32m      5\u001b[0m \u001b[0;32mimport\u001b[0m \u001b[0mnumpy\u001b[0m \u001b[0;32mas\u001b[0m \u001b[0mnp\u001b[0m\u001b[0;34m\u001b[0m\u001b[0;34m\u001b[0m\u001b[0m\n",
      "\u001b[0;31mModuleNotFoundError\u001b[0m: No module named 'ebmdatalab'"
     ]
    }
   ],
   "source": [
    "import matplotlib.pyplot as plt\n",
    "from pandas.plotting import register_matplotlib_converters\n",
    "from IPython.display import HTML, display\n",
    "import json\n",
    "from collections import Counter\n",
    "import pandas as pd\n",
    "import numpy as np\n",
    "from utilities import *\n",
    "\n",
    "register_matplotlib_converters()\n",
    "pd.set_option('display.float_format', '{:.0f}'.format)\n",
    "pd.set_option('display.max_colwidth', 100)\n",
    "%matplotlib inline\n"
   ]
  },
  {
   "cell_type": "code",
   "execution_count": 24,
   "id": "prerequisite-newton",
   "metadata": {},
   "outputs": [],
   "source": [
    "df = pd.read_csv('../output/measure_doac_rx_mechanical_valve_rate.csv', parse_dates=['date'])\n",
    "\n",
    "def calculate_rate(df, value_col, population_col, rate_per=1000):\n",
    "    num_per_thousand = (df[value_col]/df[population_col])*rate_per\n",
    "    return num_per_thousand\n",
    "\n",
    "df['rate'] = calculate_rate(df, 'doac', 'population')\n",
    "\n",
    "codelist = pd.read_csv('../codelists/opensafely-mechanical-or-artificial-valves.csv')\n"
   ]
  },
  {
   "cell_type": "markdown",
   "id": "light-explosion",
   "metadata": {},
   "source": [
    "## DOAC Use in Patients with Mechanical Heart Valves\n"
   ]
  },
  {
   "cell_type": "markdown",
   "id": "dcf99254-244d-45f9-9a19-e6644a0fe144",
   "metadata": {},
   "source": [
    "### Total Number"
   ]
  },
  {
   "cell_type": "code",
   "execution_count": 31,
   "id": "592aa0fb-887d-4450-930b-979e8a72e624",
   "metadata": {},
   "outputs": [],
   "source": [
    "population = df.groupby(by='date')[['population']].sum().reset_index()\n",
    "events = df.groupby(by='date')[['doac']].sum().reset_index()\n",
    "total_df = df.groupby(by='date')[['rate']].mean().reset_index()\n",
    "\n",
    "total_df = total_df.merge(events, on='date').merge(population, on='date')\n",
    "\n",
    "def redact_small_numbers(df, n, numerator, denominator, rate_column):\n",
    "    \"\"\"\n",
    "    Takes counts df as input and suppresses low numbers.  Sequentially redacts\n",
    "    low numbers from numerator and denominator until count of redcted values >=n.\n",
    "    Rates corresponding to redacted values are also redacted.\n",
    "    \n",
    "    df: input df\n",
    "    n: threshold for low number suppression\n",
    "    numerator: numerator column to be redacted\n",
    "    denominator: denominator column to be redacted\n",
    "    \"\"\"\n",
    "    \n",
    "    def suppress_column(column):    \n",
    "        suppressed_count = column[column<=n].sum()\n",
    "        \n",
    "        #if 0 dont need to suppress anything\n",
    "        if suppressed_count == 0:\n",
    "            pass\n",
    "        \n",
    "        else:\n",
    "            df.loc[df[column.name]<=n, column.name] = np.nan\n",
    "#             df.loc[column.name][df[column.name]<=n] = np.nan\n",
    "            \n",
    "\n",
    "            while suppressed_count <=n:\n",
    "                suppressed_count += column.min()\n",
    "                column.iloc[column.idxmin()] = np.nan   \n",
    "        return column\n",
    "    \n",
    "    \n",
    "    for column in [numerator, denominator]:\n",
    "        df[column] = suppress_column(df[column])\n",
    "    \n",
    "    df.loc[(df[numerator].isna())| (df[denominator].isna()), rate_column] = np.nan\n",
    "#     df[rate_column][(df[numerator].isna())| (df[denominator].isna())] = np.nan\n",
    "    \n",
    "    return df    \n",
    "\n",
    "total_df = redact_small_numbers(total_df, 5, 'doac', 'population', 'rate')\n",
    "\n",
    "\n",
    "def plot_measures(df, title,column_to_plot, filename,category=False, y_label='Rate per 1000', interactive=True):\n",
    "\n",
    "    if interactive:\n",
    "\n",
    "        fig = go.Figure()\n",
    "\n",
    "        if category:\n",
    "            for unique_category in df[category].unique():\n",
    "\n",
    "                df_subset = df[df[category] == unique_category]\n",
    "                fig.add_trace(go.Scatter(\n",
    "                    x=df_subset['date'], y=df_subset[column_to_plot], name=unique_category))\n",
    "\n",
    "        else:\n",
    "            fig.add_trace(go.Scatter(\n",
    "                x=df['date'], y=df[column_to_plot]))\n",
    "\n",
    "        # Set title\n",
    "        fig.update_layout(\n",
    "            title_text=title,\n",
    "            hovermode='x',\n",
    "            title_x=0.5,\n",
    "            yaxis=dict(\n",
    "            range=[0, 7000]\n",
    "        )\n",
    "\n",
    "\n",
    "        )\n",
    "\n",
    "        fig.update_yaxes(title=y_label)\n",
    "        fig.update_xaxes(title=\"Date\")\n",
    "\n",
    "        # Add range slider\n",
    "        fig.update_layout(\n",
    "            xaxis=go.layout.XAxis(\n",
    "                rangeselector=dict(\n",
    "                    buttons=list([\n",
    "                        dict(count=1,\n",
    "                            label=\"1m\",\n",
    "                            step=\"month\",\n",
    "                            stepmode=\"backward\"),\n",
    "                        dict(count=6,\n",
    "                            label=\"6m\",\n",
    "                            step=\"month\",\n",
    "                            stepmode=\"backward\"),\n",
    "\n",
    "                        dict(count=1,\n",
    "                            label=\"1y\",\n",
    "                            step=\"year\",\n",
    "                            stepmode=\"backward\"),\n",
    "                        dict(step=\"all\")\n",
    "                    ])\n",
    "                ),\n",
    "                rangeslider=dict(\n",
    "                    visible=True\n",
    "                ),\n",
    "                type=\"date\"\n",
    "            )\n",
    "        )\n",
    "\n",
    "        fig.show()\n",
    "\n",
    "    else:\n",
    "\n",
    "        if category:\n",
    "            for unique_category in df[category].unique():\n",
    "\n",
    "                df_subset = df[df[category] == unique_category]\n",
    "\n",
    "                plt.plot(df_subset['date'], df_subset[column_to_plot], marker='o')\n",
    "        else:\n",
    "            plt.plot(df['date'], df[column_to_plot])\n",
    "\n",
    "        plt.ylabel(y_label)\n",
    "        plt.xlabel('Date')\n",
    "        plt.ylim(bottom=0, top=df[column_to_plot].max() + df[column_to_plot].max()* 0.1)\n",
    "        plt.xticks(rotation='vertical')\n",
    "        plt.title(title)\n",
    "\n",
    "        if category:\n",
    "            plt.legend(df[category].unique(), bbox_to_anchor=(\n",
    "                1.04, 1), loc=\"upper left\")\n",
    "\n",
    "        else:\n",
    "            pass\n",
    "        plt.savefig(f'../output/measure_{filename}.jpeg')\n",
    "        plt.show()\n",
    "        \n",
    "        plt.clf()"
   ]
  },
  {
   "cell_type": "code",
   "execution_count": 32,
   "id": "87656f4b-0bf3-4d30-a219-e99fe60f8d02",
   "metadata": {},
   "outputs": [
    {
     "data": {
      "image/png": "[encoded data removed]",
      "text/plain": [
       "<Figure size 432x288 with 1 Axes>"
      ]
     },
     "metadata": {
      "needs_background": "light"
     },
     "output_type": "display_data"
    },
    {
     "data": {
      "text/plain": [
       "<Figure size 432x288 with 0 Axes>"
      ]
     },
     "metadata": {},
     "output_type": "display_data"
    }
   ],
   "source": [
    "plot_measures(total_df, title='DOAC prescribing rate per 1000 patients with a mechanical valve', column_to_plot='rate', category=False, y_label='Rate per 1000', interactive=False, filename=\"total\")\n"
   ]
  },
  {
   "cell_type": "markdown",
   "id": "faced-soldier",
   "metadata": {},
   "source": [
    "### STP Breakdown"
   ]
  },
  {
   "cell_type": "code",
   "execution_count": 5,
   "id": "administrative-sodium",
   "metadata": {
    "code_folding": []
   },
   "outputs": [
    {
     "ename": "NameError",
     "evalue": "name 'deciles_chart' is not defined",
     "output_type": "error",
     "traceback": [
      "\u001b[0;31m---------------------------------------------------------------------------\u001b[0m",
      "\u001b[0;31mNameError\u001b[0m                                 Traceback (most recent call last)",
      "\u001b[0;32m<ipython-input-5-820566345118>\u001b[0m in \u001b[0;36m<module>\u001b[0;34m\u001b[0m\n\u001b[1;32m      2\u001b[0m \u001b[0mdf_stp\u001b[0m\u001b[0;34m[\u001b[0m\u001b[0;34m'rate'\u001b[0m\u001b[0;34m]\u001b[0m \u001b[0;34m=\u001b[0m \u001b[0mcalculate_rate\u001b[0m\u001b[0;34m(\u001b[0m\u001b[0mdf_stp\u001b[0m\u001b[0;34m,\u001b[0m \u001b[0;34m'doac'\u001b[0m\u001b[0;34m,\u001b[0m \u001b[0;34m'population'\u001b[0m\u001b[0;34m)\u001b[0m\u001b[0;34m\u001b[0m\u001b[0;34m\u001b[0m\u001b[0m\n\u001b[1;32m      3\u001b[0m \u001b[0;34m\u001b[0m\u001b[0m\n\u001b[0;32m----> 4\u001b[0;31m \u001b[0mdeciles_chart\u001b[0m\u001b[0;34m(\u001b[0m\u001b[0mdf_stp\u001b[0m\u001b[0;34m,\u001b[0m \u001b[0mperiod_column\u001b[0m\u001b[0;34m=\u001b[0m\u001b[0;34m'date'\u001b[0m\u001b[0;34m,\u001b[0m \u001b[0mcolumn\u001b[0m\u001b[0;34m=\u001b[0m\u001b[0;34m'rate'\u001b[0m\u001b[0;34m,\u001b[0m \u001b[0mtitle\u001b[0m\u001b[0;34m=\u001b[0m\u001b[0;34m'Decile chart'\u001b[0m\u001b[0;34m,\u001b[0m\u001b[0mylabel\u001b[0m\u001b[0;34m=\u001b[0m\u001b[0;34m'rate per 1000'\u001b[0m\u001b[0;34m,\u001b[0m \u001b[0minteractive\u001b[0m\u001b[0;34m=\u001b[0m\u001b[0;32mFalse\u001b[0m\u001b[0;34m)\u001b[0m\u001b[0;34m\u001b[0m\u001b[0;34m\u001b[0m\u001b[0m\n\u001b[0m\u001b[1;32m      5\u001b[0m \u001b[0mplt\u001b[0m\u001b[0;34m.\u001b[0m\u001b[0mtight_layout\u001b[0m\u001b[0;34m(\u001b[0m\u001b[0;34m)\u001b[0m\u001b[0;34m\u001b[0m\u001b[0;34m\u001b[0m\u001b[0m\n\u001b[1;32m      6\u001b[0m \u001b[0mplt\u001b[0m\u001b[0;34m.\u001b[0m\u001b[0msavefig\u001b[0m\u001b[0;34m(\u001b[0m\u001b[0;34m'../output/measure_stp.jpeg'\u001b[0m\u001b[0;34m)\u001b[0m\u001b[0;34m\u001b[0m\u001b[0;34m\u001b[0m\u001b[0m\n",
      "\u001b[0;31mNameError\u001b[0m: name 'deciles_chart' is not defined"
     ]
    }
   ],
   "source": [
    "df_stp = pd.read_csv('../output/measure_stp_rate.csv', parse_dates=['date'])\n",
    "df_stp['rate'] = calculate_rate(df_stp, 'doac', 'population')\n",
    "\n",
    "deciles_chart(df_stp, period_column='date', column='rate', title='Decile chart',ylabel='rate per 1000', interactive=False)\n",
    "plt.tight_layout()\n",
    "plt.savefig('../output/measure_stp.jpeg')"
   ]
  },
  {
   "cell_type": "markdown",
   "id": "def15f80-c9bd-4516-bf75-b6e33bb96766",
   "metadata": {},
   "source": [
    "### Mechanical Valve Type\n",
    "\n",
    "Mechanical valve type of those with mechanical valve currently prescribed a DOAC"
   ]
  },
  {
   "cell_type": "code",
   "execution_count": 19,
   "id": "6c7b9ba2-c046-4e35-8cc8-01856d59e88b",
   "metadata": {},
   "outputs": [],
   "source": [
    "def group_low_values(df, value_col, population_col, term_col):\n",
    "    \n",
    "    df = df[df[value_col] > 0]\n",
    "    suppressed_count = df.loc[df[value_col]<=5, value_col].sum()\n",
    "    population_suppressed_count = df.loc[df[value_col]<=5, population_col].sum()\n",
    "    \n",
    "    if suppressed_count == 0:\n",
    "        pass\n",
    "\n",
    "    else:\n",
    "        df.loc[df[value_col] <=5, value_col]  = np.nan\n",
    "\n",
    "        while suppressed_count <=10:\n",
    "\n",
    "            suppressed_count += df[value_col].min()\n",
    "            df.loc[df[value_col].idxmin(), value_col] = np.nan \n",
    "            \n",
    "            population_suppressed_count += df.loc[df[value_col].idxmin(), population_col]\n",
    "            df.loc[df[value_col].idxmin(), population_col] = np.nan\n",
    "\n",
    "    dropped_rows = df.loc[df[value_col].isnull(), term_col].values\n",
    "\n",
    "    df = df[df[value_col].notnull()]\n",
    "    \n",
    "    \n",
    "    \n",
    "    return df, dropped_rows, suppressed_count, population_suppressed_count"
   ]
  },
  {
   "cell_type": "code",
   "execution_count": 20,
   "id": "e05557e3-e396-4ae0-831f-7fef379eacc7",
   "metadata": {},
   "outputs": [
    {
     "ename": "FileNotFoundError",
     "evalue": "[Errno 2] No such file or directory: '../output/measure_doac_rx_mechanical_valve_3_month_valve_code_rate.csv'",
     "output_type": "error",
     "traceback": [
      "\u001b[0;31m---------------------------------------------------------------------------\u001b[0m",
      "\u001b[0;31mFileNotFoundError\u001b[0m                         Traceback (most recent call last)",
      "\u001b[0;32m<ipython-input-20-f5a7db168e99>\u001b[0m in \u001b[0;36m<module>\u001b[0;34m\u001b[0m\n\u001b[0;32m----> 1\u001b[0;31m \u001b[0mvalve_type_df\u001b[0m \u001b[0;34m=\u001b[0m \u001b[0mpd\u001b[0m\u001b[0;34m.\u001b[0m\u001b[0mread_csv\u001b[0m\u001b[0;34m(\u001b[0m\u001b[0;34m'../output/measure_doac_rx_mechanical_valve_3_month_valve_code_rate.csv'\u001b[0m\u001b[0;34m,\u001b[0m \u001b[0mparse_dates\u001b[0m\u001b[0;34m=\u001b[0m\u001b[0;34m[\u001b[0m\u001b[0;34m'date'\u001b[0m\u001b[0;34m]\u001b[0m\u001b[0;34m)\u001b[0m\u001b[0;34m\u001b[0m\u001b[0;34m\u001b[0m\u001b[0m\n\u001b[0m\u001b[1;32m      2\u001b[0m \u001b[0mvalve_type_df_now\u001b[0m \u001b[0;34m=\u001b[0m \u001b[0mvalve_type_df\u001b[0m\u001b[0;34m[\u001b[0m\u001b[0mvalve_type_df\u001b[0m\u001b[0;34m[\u001b[0m\u001b[0;34m'date'\u001b[0m\u001b[0;34m]\u001b[0m\u001b[0;34m==\u001b[0m \u001b[0;34m'2021-05-01'\u001b[0m\u001b[0;34m]\u001b[0m\u001b[0;34m\u001b[0m\u001b[0;34m\u001b[0m\u001b[0m\n\u001b[1;32m      3\u001b[0m \u001b[0mvalve_type_df_now\u001b[0m \u001b[0;34m=\u001b[0m \u001b[0mvalve_type_df_now\u001b[0m\u001b[0;34m.\u001b[0m\u001b[0mdrop\u001b[0m\u001b[0;34m(\u001b[0m\u001b[0;34m'value'\u001b[0m\u001b[0;34m,\u001b[0m \u001b[0maxis\u001b[0m\u001b[0;34m=\u001b[0m\u001b[0;36m1\u001b[0m\u001b[0;34m)\u001b[0m\u001b[0;34m\u001b[0m\u001b[0;34m\u001b[0m\u001b[0m\n\u001b[1;32m      4\u001b[0m \u001b[0;34m\u001b[0m\u001b[0m\n\u001b[1;32m      5\u001b[0m \u001b[0;34m\u001b[0m\u001b[0m\n",
      "\u001b[0;32m/usr/local/lib/python3.9/site-packages/pandas/io/parsers.py\u001b[0m in \u001b[0;36mread_csv\u001b[0;34m(filepath_or_buffer, sep, delimiter, header, names, index_col, usecols, squeeze, prefix, mangle_dupe_cols, dtype, engine, converters, true_values, false_values, skipinitialspace, skiprows, skipfooter, nrows, na_values, keep_default_na, na_filter, verbose, skip_blank_lines, parse_dates, infer_datetime_format, keep_date_col, date_parser, dayfirst, cache_dates, iterator, chunksize, compression, thousands, decimal, lineterminator, quotechar, quoting, doublequote, escapechar, comment, encoding, dialect, error_bad_lines, warn_bad_lines, delim_whitespace, low_memory, memory_map, float_precision, storage_options)\u001b[0m\n\u001b[1;32m    608\u001b[0m     \u001b[0mkwds\u001b[0m\u001b[0;34m.\u001b[0m\u001b[0mupdate\u001b[0m\u001b[0;34m(\u001b[0m\u001b[0mkwds_defaults\u001b[0m\u001b[0;34m)\u001b[0m\u001b[0;34m\u001b[0m\u001b[0;34m\u001b[0m\u001b[0m\n\u001b[1;32m    609\u001b[0m \u001b[0;34m\u001b[0m\u001b[0m\n\u001b[0;32m--> 610\u001b[0;31m     \u001b[0;32mreturn\u001b[0m \u001b[0m_read\u001b[0m\u001b[0;34m(\u001b[0m\u001b[0mfilepath_or_buffer\u001b[0m\u001b[0;34m,\u001b[0m \u001b[0mkwds\u001b[0m\u001b[0;34m)\u001b[0m\u001b[0;34m\u001b[0m\u001b[0;34m\u001b[0m\u001b[0m\n\u001b[0m\u001b[1;32m    611\u001b[0m \u001b[0;34m\u001b[0m\u001b[0m\n\u001b[1;32m    612\u001b[0m \u001b[0;34m\u001b[0m\u001b[0m\n",
      "\u001b[0;32m/usr/local/lib/python3.9/site-packages/pandas/io/parsers.py\u001b[0m in \u001b[0;36m_read\u001b[0;34m(filepath_or_buffer, kwds)\u001b[0m\n\u001b[1;32m    460\u001b[0m \u001b[0;34m\u001b[0m\u001b[0m\n\u001b[1;32m    461\u001b[0m     \u001b[0;31m# Create the parser.\u001b[0m\u001b[0;34m\u001b[0m\u001b[0;34m\u001b[0m\u001b[0;34m\u001b[0m\u001b[0m\n\u001b[0;32m--> 462\u001b[0;31m     \u001b[0mparser\u001b[0m \u001b[0;34m=\u001b[0m \u001b[0mTextFileReader\u001b[0m\u001b[0;34m(\u001b[0m\u001b[0mfilepath_or_buffer\u001b[0m\u001b[0;34m,\u001b[0m \u001b[0;34m**\u001b[0m\u001b[0mkwds\u001b[0m\u001b[0;34m)\u001b[0m\u001b[0;34m\u001b[0m\u001b[0;34m\u001b[0m\u001b[0m\n\u001b[0m\u001b[1;32m    463\u001b[0m \u001b[0;34m\u001b[0m\u001b[0m\n\u001b[1;32m    464\u001b[0m     \u001b[0;32mif\u001b[0m \u001b[0mchunksize\u001b[0m \u001b[0;32mor\u001b[0m \u001b[0miterator\u001b[0m\u001b[0;34m:\u001b[0m\u001b[0;34m\u001b[0m\u001b[0;34m\u001b[0m\u001b[0m\n",
      "\u001b[0;32m/usr/local/lib/python3.9/site-packages/pandas/io/parsers.py\u001b[0m in \u001b[0;36m__init__\u001b[0;34m(self, f, engine, **kwds)\u001b[0m\n\u001b[1;32m    817\u001b[0m             \u001b[0mself\u001b[0m\u001b[0;34m.\u001b[0m\u001b[0moptions\u001b[0m\u001b[0;34m[\u001b[0m\u001b[0;34m\"has_index_names\"\u001b[0m\u001b[0;34m]\u001b[0m \u001b[0;34m=\u001b[0m \u001b[0mkwds\u001b[0m\u001b[0;34m[\u001b[0m\u001b[0;34m\"has_index_names\"\u001b[0m\u001b[0;34m]\u001b[0m\u001b[0;34m\u001b[0m\u001b[0;34m\u001b[0m\u001b[0m\n\u001b[1;32m    818\u001b[0m \u001b[0;34m\u001b[0m\u001b[0m\n\u001b[0;32m--> 819\u001b[0;31m         \u001b[0mself\u001b[0m\u001b[0;34m.\u001b[0m\u001b[0m_engine\u001b[0m \u001b[0;34m=\u001b[0m \u001b[0mself\u001b[0m\u001b[0;34m.\u001b[0m\u001b[0m_make_engine\u001b[0m\u001b[0;34m(\u001b[0m\u001b[0mself\u001b[0m\u001b[0;34m.\u001b[0m\u001b[0mengine\u001b[0m\u001b[0;34m)\u001b[0m\u001b[0;34m\u001b[0m\u001b[0;34m\u001b[0m\u001b[0m\n\u001b[0m\u001b[1;32m    820\u001b[0m \u001b[0;34m\u001b[0m\u001b[0m\n\u001b[1;32m    821\u001b[0m     \u001b[0;32mdef\u001b[0m \u001b[0mclose\u001b[0m\u001b[0;34m(\u001b[0m\u001b[0mself\u001b[0m\u001b[0;34m)\u001b[0m\u001b[0;34m:\u001b[0m\u001b[0;34m\u001b[0m\u001b[0;34m\u001b[0m\u001b[0m\n",
      "\u001b[0;32m/usr/local/lib/python3.9/site-packages/pandas/io/parsers.py\u001b[0m in \u001b[0;36m_make_engine\u001b[0;34m(self, engine)\u001b[0m\n\u001b[1;32m   1048\u001b[0m             )\n\u001b[1;32m   1049\u001b[0m         \u001b[0;31m# error: Too many arguments for \"ParserBase\"\u001b[0m\u001b[0;34m\u001b[0m\u001b[0;34m\u001b[0m\u001b[0;34m\u001b[0m\u001b[0m\n\u001b[0;32m-> 1050\u001b[0;31m         \u001b[0;32mreturn\u001b[0m \u001b[0mmapping\u001b[0m\u001b[0;34m[\u001b[0m\u001b[0mengine\u001b[0m\u001b[0;34m]\u001b[0m\u001b[0;34m(\u001b[0m\u001b[0mself\u001b[0m\u001b[0;34m.\u001b[0m\u001b[0mf\u001b[0m\u001b[0;34m,\u001b[0m \u001b[0;34m**\u001b[0m\u001b[0mself\u001b[0m\u001b[0;34m.\u001b[0m\u001b[0moptions\u001b[0m\u001b[0;34m)\u001b[0m  \u001b[0;31m# type: ignore[call-arg]\u001b[0m\u001b[0;34m\u001b[0m\u001b[0;34m\u001b[0m\u001b[0m\n\u001b[0m\u001b[1;32m   1051\u001b[0m \u001b[0;34m\u001b[0m\u001b[0m\n\u001b[1;32m   1052\u001b[0m     \u001b[0;32mdef\u001b[0m \u001b[0m_failover_to_python\u001b[0m\u001b[0;34m(\u001b[0m\u001b[0mself\u001b[0m\u001b[0;34m)\u001b[0m\u001b[0;34m:\u001b[0m\u001b[0;34m\u001b[0m\u001b[0;34m\u001b[0m\u001b[0m\n",
      "\u001b[0;32m/usr/local/lib/python3.9/site-packages/pandas/io/parsers.py\u001b[0m in \u001b[0;36m__init__\u001b[0;34m(self, src, **kwds)\u001b[0m\n\u001b[1;32m   1865\u001b[0m \u001b[0;34m\u001b[0m\u001b[0m\n\u001b[1;32m   1866\u001b[0m         \u001b[0;31m# open handles\u001b[0m\u001b[0;34m\u001b[0m\u001b[0;34m\u001b[0m\u001b[0;34m\u001b[0m\u001b[0m\n\u001b[0;32m-> 1867\u001b[0;31m         \u001b[0mself\u001b[0m\u001b[0;34m.\u001b[0m\u001b[0m_open_handles\u001b[0m\u001b[0;34m(\u001b[0m\u001b[0msrc\u001b[0m\u001b[0;34m,\u001b[0m \u001b[0mkwds\u001b[0m\u001b[0;34m)\u001b[0m\u001b[0;34m\u001b[0m\u001b[0;34m\u001b[0m\u001b[0m\n\u001b[0m\u001b[1;32m   1868\u001b[0m         \u001b[0;32massert\u001b[0m \u001b[0mself\u001b[0m\u001b[0;34m.\u001b[0m\u001b[0mhandles\u001b[0m \u001b[0;32mis\u001b[0m \u001b[0;32mnot\u001b[0m \u001b[0;32mNone\u001b[0m\u001b[0;34m\u001b[0m\u001b[0;34m\u001b[0m\u001b[0m\n\u001b[1;32m   1869\u001b[0m         \u001b[0;32mfor\u001b[0m \u001b[0mkey\u001b[0m \u001b[0;32min\u001b[0m \u001b[0;34m(\u001b[0m\u001b[0;34m\"storage_options\"\u001b[0m\u001b[0;34m,\u001b[0m \u001b[0;34m\"encoding\"\u001b[0m\u001b[0;34m,\u001b[0m \u001b[0;34m\"memory_map\"\u001b[0m\u001b[0;34m,\u001b[0m \u001b[0;34m\"compression\"\u001b[0m\u001b[0;34m)\u001b[0m\u001b[0;34m:\u001b[0m\u001b[0;34m\u001b[0m\u001b[0;34m\u001b[0m\u001b[0m\n",
      "\u001b[0;32m/usr/local/lib/python3.9/site-packages/pandas/io/parsers.py\u001b[0m in \u001b[0;36m_open_handles\u001b[0;34m(self, src, kwds)\u001b[0m\n\u001b[1;32m   1360\u001b[0m         \u001b[0mLet\u001b[0m \u001b[0mthe\u001b[0m \u001b[0mreaders\u001b[0m \u001b[0mopen\u001b[0m \u001b[0mIOHanldes\u001b[0m \u001b[0mafter\u001b[0m \u001b[0mthey\u001b[0m \u001b[0mare\u001b[0m \u001b[0mdone\u001b[0m \u001b[0;32mwith\u001b[0m \u001b[0mtheir\u001b[0m \u001b[0mpotential\u001b[0m \u001b[0mraises\u001b[0m\u001b[0;34m.\u001b[0m\u001b[0;34m\u001b[0m\u001b[0;34m\u001b[0m\u001b[0m\n\u001b[1;32m   1361\u001b[0m         \"\"\"\n\u001b[0;32m-> 1362\u001b[0;31m         self.handles = get_handle(\n\u001b[0m\u001b[1;32m   1363\u001b[0m             \u001b[0msrc\u001b[0m\u001b[0;34m,\u001b[0m\u001b[0;34m\u001b[0m\u001b[0;34m\u001b[0m\u001b[0m\n\u001b[1;32m   1364\u001b[0m             \u001b[0;34m\"r\"\u001b[0m\u001b[0;34m,\u001b[0m\u001b[0;34m\u001b[0m\u001b[0;34m\u001b[0m\u001b[0m\n",
      "\u001b[0;32m/usr/local/lib/python3.9/site-packages/pandas/io/common.py\u001b[0m in \u001b[0;36mget_handle\u001b[0;34m(path_or_buf, mode, encoding, compression, memory_map, is_text, errors, storage_options)\u001b[0m\n\u001b[1;32m    640\u001b[0m                 \u001b[0merrors\u001b[0m \u001b[0;34m=\u001b[0m \u001b[0;34m\"replace\"\u001b[0m\u001b[0;34m\u001b[0m\u001b[0;34m\u001b[0m\u001b[0m\n\u001b[1;32m    641\u001b[0m             \u001b[0;31m# Encoding\u001b[0m\u001b[0;34m\u001b[0m\u001b[0;34m\u001b[0m\u001b[0;34m\u001b[0m\u001b[0m\n\u001b[0;32m--> 642\u001b[0;31m             handle = open(\n\u001b[0m\u001b[1;32m    643\u001b[0m                 \u001b[0mhandle\u001b[0m\u001b[0;34m,\u001b[0m\u001b[0;34m\u001b[0m\u001b[0;34m\u001b[0m\u001b[0m\n\u001b[1;32m    644\u001b[0m                 \u001b[0mioargs\u001b[0m\u001b[0;34m.\u001b[0m\u001b[0mmode\u001b[0m\u001b[0;34m,\u001b[0m\u001b[0;34m\u001b[0m\u001b[0;34m\u001b[0m\u001b[0m\n",
      "\u001b[0;31mFileNotFoundError\u001b[0m: [Errno 2] No such file or directory: '../output/measure_doac_rx_mechanical_valve_3_month_valve_code_rate.csv'"
     ]
    }
   ],
   "source": [
    "valve_type_df = pd.read_csv('../output/measure_doac_rx_mechanical_valve_3_month_valve_code_rate.csv', parse_dates=['date'])\n",
    "valve_type_df_now = valve_type_df[valve_type_df['date']== '2021-05-01']\n",
    "valve_type_df_now = valve_type_df_now.drop('value', axis=1)\n",
    "\n",
    "\n",
    "\n",
    "valve_type_df_now = valve_type_df_now.merge(codelist, left_on='mechanical_valve_code', right_on='code', how='left')\n",
    "valve_type_df_now = valve_type_df_now.drop(columns='code')\n",
    "valve_type_df_now\n",
    "\n",
    "\n",
    "valve_type_df_now, dropped_rows, suppressed_count, population_suppressed_count = group_low_values(valve_type_df_now, 'doac_3_months', 'population', 'term')\n"
   ]
  },
  {
   "cell_type": "code",
   "execution_count": 8,
   "id": "863d8066-fade-428c-978e-367647f3f2ab",
   "metadata": {},
   "outputs": [
    {
     "data": {
      "text/html": [
       "<div>\n",
       "<style scoped>\n",
       "    .dataframe tbody tr th:only-of-type {\n",
       "        vertical-align: middle;\n",
       "    }\n",
       "\n",
       "    .dataframe tbody tr th {\n",
       "        vertical-align: top;\n",
       "    }\n",
       "\n",
       "    .dataframe thead th {\n",
       "        text-align: right;\n",
       "    }\n",
       "</style>\n",
       "<table border=\"1\" class=\"dataframe\">\n",
       "  <thead>\n",
       "    <tr style=\"text-align: right;\">\n",
       "      <th></th>\n",
       "      <th>mechanical_valve_code</th>\n",
       "      <th>doac_3_months</th>\n",
       "      <th>population</th>\n",
       "      <th>date</th>\n",
       "      <th>term</th>\n",
       "    </tr>\n",
       "  </thead>\n",
       "  <tbody>\n",
       "    <tr>\n",
       "      <th>0</th>\n",
       "      <td>NaN</td>\n",
       "      <td>2426.0</td>\n",
       "      <td>12000</td>\n",
       "      <td>2021-05-01</td>\n",
       "      <td>NaN</td>\n",
       "    </tr>\n",
       "    <tr>\n",
       "      <th>1</th>\n",
       "      <td>174920003.0</td>\n",
       "      <td>574.0</td>\n",
       "      <td>3000</td>\n",
       "      <td>2021-05-01</td>\n",
       "      <td>Prosthetic mitral valve replacement (&amp; [Bjork ...</td>\n",
       "    </tr>\n",
       "  </tbody>\n",
       "</table>\n",
       "</div>"
      ],
      "text/plain": [
       "   mechanical_valve_code  doac_3_months  population       date  \\\n",
       "0                    NaN         2426.0       12000 2021-05-01   \n",
       "1            174920003.0          574.0        3000 2021-05-01   \n",
       "\n",
       "                                                term  \n",
       "0                                                NaN  \n",
       "1  Prosthetic mitral valve replacement (& [Bjork ...  "
      ]
     },
     "execution_count": 8,
     "metadata": {},
     "output_type": "execute_result"
    }
   ],
   "source": [
    "valve_type_df_now"
   ]
  },
  {
   "cell_type": "code",
   "execution_count": 9,
   "id": "70623aa4-3805-4a01-864e-d73043d281ac",
   "metadata": {},
   "outputs": [
    {
     "name": "stdout",
     "output_type": "stream",
     "text": [
      "suppressed count: 0.0\n",
      "population suppressed: 0\n",
      "[]\n"
     ]
    }
   ],
   "source": [
    "print(f'suppressed count: {suppressed_count}')\n",
    "print(f'population suppressed: {population_suppressed_count}')\n",
    "print(dropped_rows)"
   ]
  },
  {
   "cell_type": "markdown",
   "id": "impossible-walnut",
   "metadata": {},
   "source": [
    "### Demographic breakdown"
   ]
  },
  {
   "cell_type": "markdown",
   "id": "enabling-respect",
   "metadata": {},
   "source": [
    "#### Sex"
   ]
  },
  {
   "cell_type": "code",
   "execution_count": 10,
   "id": "e595db2d-9396-46b2-ac4a-90e3ef6899ce",
   "metadata": {},
   "outputs": [
    {
     "data": {
      "text/html": [
       "<div>\n",
       "<style scoped>\n",
       "    .dataframe tbody tr th:only-of-type {\n",
       "        vertical-align: middle;\n",
       "    }\n",
       "\n",
       "    .dataframe tbody tr th {\n",
       "        vertical-align: top;\n",
       "    }\n",
       "\n",
       "    .dataframe thead th {\n",
       "        text-align: right;\n",
       "    }\n",
       "</style>\n",
       "<table border=\"1\" class=\"dataframe\">\n",
       "  <thead>\n",
       "    <tr style=\"text-align: right;\">\n",
       "      <th></th>\n",
       "      <th>sex</th>\n",
       "      <th>doac_3_months</th>\n",
       "      <th>population</th>\n",
       "      <th>date</th>\n",
       "      <th>rate</th>\n",
       "    </tr>\n",
       "  </thead>\n",
       "  <tbody>\n",
       "    <tr>\n",
       "      <th>96</th>\n",
       "      <td>F</td>\n",
       "      <td>1518.0</td>\n",
       "      <td>7479</td>\n",
       "      <td>2021-05-01</td>\n",
       "      <td>202.968311</td>\n",
       "    </tr>\n",
       "    <tr>\n",
       "      <th>97</th>\n",
       "      <td>M</td>\n",
       "      <td>1467.0</td>\n",
       "      <td>7394</td>\n",
       "      <td>2021-05-01</td>\n",
       "      <td>198.404111</td>\n",
       "    </tr>\n",
       "    <tr>\n",
       "      <th>98</th>\n",
       "      <td>U</td>\n",
       "      <td>15.0</td>\n",
       "      <td>127</td>\n",
       "      <td>2021-05-01</td>\n",
       "      <td>118.110236</td>\n",
       "    </tr>\n",
       "  </tbody>\n",
       "</table>\n",
       "</div>"
      ],
      "text/plain": [
       "   sex  doac_3_months  population       date        rate\n",
       "96   F         1518.0        7479 2021-05-01  202.968311\n",
       "97   M         1467.0        7394 2021-05-01  198.404111\n",
       "98   U           15.0         127 2021-05-01  118.110236"
      ]
     },
     "execution_count": 10,
     "metadata": {},
     "output_type": "execute_result"
    }
   ],
   "source": [
    "sex_df = pd.read_csv('../output/measure_doac_rx_mechanical_valve_3_month_sex_rate.csv', parse_dates=['date'])\n",
    "\n",
    "def calculate_rate(df, value_col, population_col, rate_per=1000):\n",
    "    num_per_thousand = (df[value_col]/df[population_col])*rate_per\n",
    "    return num_per_thousand\n",
    "\n",
    "sex_df['rate'] = calculate_rate(sex_df, 'doac_3_months', 'population')\n",
    "\n",
    "sex_df_now = sex_df[sex_df['date'] == '2021-05-01']\n",
    "sex_df_now = sex_df_now.drop('value', axis=1)\n",
    "\n",
    "sex_df_now, dropped_rows, suppressed_count, population_suppressed_count = group_low_values(sex_df_now, 'doac_3_months', 'population', 'sex')\n",
    "sex_df_now"
   ]
  },
  {
   "cell_type": "code",
   "execution_count": 11,
   "id": "50a6d7df-ffe2-4521-b1b9-302ef47dcd3e",
   "metadata": {},
   "outputs": [
    {
     "name": "stdout",
     "output_type": "stream",
     "text": [
      "suppressed count: 0.0\n",
      "population suppressed: 0\n",
      "[]\n"
     ]
    }
   ],
   "source": [
    "print(f'suppressed count: {suppressed_count}')\n",
    "print(f'population suppressed: {population_suppressed_count}')\n",
    "print(dropped_rows)"
   ]
  },
  {
   "cell_type": "markdown",
   "id": "peripheral-joseph",
   "metadata": {},
   "source": [
    "#### Ethnicity"
   ]
  },
  {
   "cell_type": "code",
   "execution_count": 12,
   "id": "df2ee528-1173-480e-a8f6-0c011db81502",
   "metadata": {},
   "outputs": [
    {
     "name": "stderr",
     "output_type": "stream",
     "text": [
      "/usr/local/lib/python3.9/site-packages/pandas/core/indexing.py:1720: SettingWithCopyWarning: \n",
      "A value is trying to be set on a copy of a slice from a DataFrame.\n",
      "Try using .loc[row_indexer,col_indexer] = value instead\n",
      "\n",
      "See the caveats in the documentation: https://pandas.pydata.org/pandas-docs/stable/user_guide/indexing.html#returning-a-view-versus-a-copy\n",
      "  self._setitem_single_column(loc, value, pi)\n"
     ]
    },
    {
     "data": {
      "text/html": [
       "<div>\n",
       "<style scoped>\n",
       "    .dataframe tbody tr th:only-of-type {\n",
       "        vertical-align: middle;\n",
       "    }\n",
       "\n",
       "    .dataframe tbody tr th {\n",
       "        vertical-align: top;\n",
       "    }\n",
       "\n",
       "    .dataframe thead th {\n",
       "        text-align: right;\n",
       "    }\n",
       "</style>\n",
       "<table border=\"1\" class=\"dataframe\">\n",
       "  <thead>\n",
       "    <tr style=\"text-align: right;\">\n",
       "      <th></th>\n",
       "      <th>eth2001</th>\n",
       "      <th>doac_3_months</th>\n",
       "      <th>population</th>\n",
       "      <th>date</th>\n",
       "      <th>rate</th>\n",
       "    </tr>\n",
       "  </thead>\n",
       "  <tbody>\n",
       "    <tr>\n",
       "      <th>288</th>\n",
       "      <td>NaN</td>\n",
       "      <td>2705.0</td>\n",
       "      <td>13511.0</td>\n",
       "      <td>2021-05-01</td>\n",
       "      <td>200.207239</td>\n",
       "    </tr>\n",
       "    <tr>\n",
       "      <th>289</th>\n",
       "      <td>1.0</td>\n",
       "      <td>155.0</td>\n",
       "      <td>747.0</td>\n",
       "      <td>2021-05-01</td>\n",
       "      <td>207.496653</td>\n",
       "    </tr>\n",
       "    <tr>\n",
       "      <th>290</th>\n",
       "      <td>2.0</td>\n",
       "      <td>75.0</td>\n",
       "      <td>369.0</td>\n",
       "      <td>2021-05-01</td>\n",
       "      <td>203.252033</td>\n",
       "    </tr>\n",
       "    <tr>\n",
       "      <th>291</th>\n",
       "      <td>3.0</td>\n",
       "      <td>29.0</td>\n",
       "      <td>183.0</td>\n",
       "      <td>2021-05-01</td>\n",
       "      <td>158.469945</td>\n",
       "    </tr>\n",
       "    <tr>\n",
       "      <th>292</th>\n",
       "      <td>4.0</td>\n",
       "      <td>19.0</td>\n",
       "      <td>NaN</td>\n",
       "      <td>2021-05-01</td>\n",
       "      <td>180.952381</td>\n",
       "    </tr>\n",
       "  </tbody>\n",
       "</table>\n",
       "</div>"
      ],
      "text/plain": [
       "     eth2001  doac_3_months  population       date        rate\n",
       "288      NaN         2705.0     13511.0 2021-05-01  200.207239\n",
       "289      1.0          155.0       747.0 2021-05-01  207.496653\n",
       "290      2.0           75.0       369.0 2021-05-01  203.252033\n",
       "291      3.0           29.0       183.0 2021-05-01  158.469945\n",
       "292      4.0           19.0         NaN 2021-05-01  180.952381"
      ]
     },
     "execution_count": 12,
     "metadata": {},
     "output_type": "execute_result"
    }
   ],
   "source": [
    "ethnicity_df = pd.read_csv('../output/measure_doac_rx_mechanical_valve_3_month_ethnicity_rate.csv', parse_dates=['date'])\n",
    "\n",
    "def calculate_rate(df, value_col, population_col, rate_per=1000):\n",
    "    num_per_thousand = (df[value_col]/df[population_col])*rate_per\n",
    "    return num_per_thousand\n",
    "\n",
    "ethnicity_df['rate'] = calculate_rate(ethnicity_df, 'doac_3_months', 'population')\n",
    "\n",
    "ethnicity_df_now = ethnicity_df[ethnicity_df['date'] == '2021-05-01']\n",
    "ethnicity_df_now = ethnicity_df_now.drop('value', axis=1)\n",
    "\n",
    "ethnicity_df_now, dropped_rows, suppressed_count, population_suppressed_count = group_low_values(ethnicity_df_now, 'doac_3_months', 'population', 'eth2001')\n",
    "ethnicity_df_now"
   ]
  },
  {
   "cell_type": "code",
   "execution_count": 13,
   "id": "b95b6b69-1a2e-4ac9-83f2-1ef711a0febd",
   "metadata": {},
   "outputs": [
    {
     "name": "stdout",
     "output_type": "stream",
     "text": [
      "suppressed count: 17.0\n",
      "population suppressed: 133\n",
      "[5. 6. 8.]\n"
     ]
    }
   ],
   "source": [
    "print(f'suppressed count: {suppressed_count}')\n",
    "print(f'population suppressed: {population_suppressed_count}')\n",
    "print(dropped_rows)"
   ]
  },
  {
   "cell_type": "markdown",
   "id": "confirmed-failure",
   "metadata": {},
   "source": [
    "#### IMD"
   ]
  },
  {
   "cell_type": "code",
   "execution_count": 14,
   "id": "96380443-1615-41e1-8186-8178c7253166",
   "metadata": {},
   "outputs": [
    {
     "data": {
      "text/html": [
       "<div>\n",
       "<style scoped>\n",
       "    .dataframe tbody tr th:only-of-type {\n",
       "        vertical-align: middle;\n",
       "    }\n",
       "\n",
       "    .dataframe tbody tr th {\n",
       "        vertical-align: top;\n",
       "    }\n",
       "\n",
       "    .dataframe thead th {\n",
       "        text-align: right;\n",
       "    }\n",
       "</style>\n",
       "<table border=\"1\" class=\"dataframe\">\n",
       "  <thead>\n",
       "    <tr style=\"text-align: right;\">\n",
       "      <th></th>\n",
       "      <th>imd</th>\n",
       "      <th>doac_3_months</th>\n",
       "      <th>population</th>\n",
       "      <th>date</th>\n",
       "      <th>rate</th>\n",
       "    </tr>\n",
       "  </thead>\n",
       "  <tbody>\n",
       "    <tr>\n",
       "      <th>192</th>\n",
       "      <td>NaN</td>\n",
       "      <td>2404.0</td>\n",
       "      <td>12000</td>\n",
       "      <td>2021-05-01</td>\n",
       "      <td>196.428571</td>\n",
       "    </tr>\n",
       "    <tr>\n",
       "      <th>193</th>\n",
       "      <td>1.0</td>\n",
       "      <td>126.0</td>\n",
       "      <td>635</td>\n",
       "      <td>2021-05-01</td>\n",
       "      <td>240.384615</td>\n",
       "    </tr>\n",
       "    <tr>\n",
       "      <th>194</th>\n",
       "      <td>12001.0</td>\n",
       "      <td>105.0</td>\n",
       "      <td>558</td>\n",
       "      <td>2021-05-01</td>\n",
       "      <td>263.157895</td>\n",
       "    </tr>\n",
       "    <tr>\n",
       "      <th>195</th>\n",
       "      <td>18001.0</td>\n",
       "      <td>104.0</td>\n",
       "      <td>587</td>\n",
       "      <td>2021-05-01</td>\n",
       "      <td>120.000000</td>\n",
       "    </tr>\n",
       "    <tr>\n",
       "      <th>196</th>\n",
       "      <td>24001.0</td>\n",
       "      <td>128.0</td>\n",
       "      <td>604</td>\n",
       "      <td>2021-05-01</td>\n",
       "      <td>187.500000</td>\n",
       "    </tr>\n",
       "    <tr>\n",
       "      <th>197</th>\n",
       "      <td>6001.0</td>\n",
       "      <td>133.0</td>\n",
       "      <td>616</td>\n",
       "      <td>2021-05-01</td>\n",
       "      <td>142.857143</td>\n",
       "    </tr>\n",
       "  </tbody>\n",
       "</table>\n",
       "</div>"
      ],
      "text/plain": [
       "         imd  doac_3_months  population       date        rate\n",
       "192      NaN         2404.0       12000 2021-05-01  196.428571\n",
       "193      1.0          126.0         635 2021-05-01  240.384615\n",
       "194  12001.0          105.0         558 2021-05-01  263.157895\n",
       "195  18001.0          104.0         587 2021-05-01  120.000000\n",
       "196  24001.0          128.0         604 2021-05-01  187.500000\n",
       "197   6001.0          133.0         616 2021-05-01  142.857143"
      ]
     },
     "execution_count": 14,
     "metadata": {},
     "output_type": "execute_result"
    }
   ],
   "source": [
    "imd_df = pd.read_csv('../output/measure_doac_rx_mechanical_valve_3_month_imd_rate.csv', parse_dates=['date'])\n",
    "\n",
    "def calculate_rate(df, value_col, population_col, rate_per=1000):\n",
    "    num_per_thousand = (df[value_col]/df[population_col])*rate_per\n",
    "    return num_per_thousand\n",
    "\n",
    "imd_df['rate'] = calculate_rate(ethnicity_df, 'doac_3_months', 'population')\n",
    "\n",
    "imd_df_now = imd_df[imd_df['date'] == '2021-05-01']\n",
    "imd_df_now = imd_df_now.drop('value', axis=1)\n",
    "\n",
    "imd_df_now, dropped_rows, suppressed_count, population_suppressed_count = group_low_values(imd_df_now, 'doac_3_months', 'population', 'imd')\n",
    "imd_df_now"
   ]
  },
  {
   "cell_type": "code",
   "execution_count": 15,
   "id": "37b5d164-bec0-4dd6-a4fe-d0cd45542469",
   "metadata": {},
   "outputs": [
    {
     "name": "stdout",
     "output_type": "stream",
     "text": [
      "suppressed count: 0.0\n",
      "population suppressed: 0\n",
      "[]\n"
     ]
    }
   ],
   "source": [
    "print(f'suppressed count: {suppressed_count}')\n",
    "print(f'population suppressed: {population_suppressed_count}')\n",
    "print(dropped_rows)"
   ]
  },
  {
   "cell_type": "markdown",
   "id": "operational-lambda",
   "metadata": {},
   "source": [
    "#### Age Band"
   ]
  },
  {
   "cell_type": "code",
   "execution_count": 16,
   "id": "d2e751c5-f9c2-442b-9624-8fd41f284817",
   "metadata": {},
   "outputs": [
    {
     "data": {
      "text/html": [
       "<div>\n",
       "<style scoped>\n",
       "    .dataframe tbody tr th:only-of-type {\n",
       "        vertical-align: middle;\n",
       "    }\n",
       "\n",
       "    .dataframe tbody tr th {\n",
       "        vertical-align: top;\n",
       "    }\n",
       "\n",
       "    .dataframe thead th {\n",
       "        text-align: right;\n",
       "    }\n",
       "</style>\n",
       "<table border=\"1\" class=\"dataframe\">\n",
       "  <thead>\n",
       "    <tr style=\"text-align: right;\">\n",
       "      <th></th>\n",
       "      <th>age_band</th>\n",
       "      <th>doac_3_months</th>\n",
       "      <th>population</th>\n",
       "      <th>date</th>\n",
       "      <th>rate</th>\n",
       "    </tr>\n",
       "  </thead>\n",
       "  <tbody>\n",
       "    <tr>\n",
       "      <th>289</th>\n",
       "      <td>0-19</td>\n",
       "      <td>376.0</td>\n",
       "      <td>1867.0</td>\n",
       "      <td>2021-05-01</td>\n",
       "      <td>201.392608</td>\n",
       "    </tr>\n",
       "    <tr>\n",
       "      <th>290</th>\n",
       "      <td>20-29</td>\n",
       "      <td>381.0</td>\n",
       "      <td>1908.0</td>\n",
       "      <td>2021-05-01</td>\n",
       "      <td>199.685535</td>\n",
       "    </tr>\n",
       "    <tr>\n",
       "      <th>291</th>\n",
       "      <td>30-39</td>\n",
       "      <td>379.0</td>\n",
       "      <td>1854.0</td>\n",
       "      <td>2021-05-01</td>\n",
       "      <td>204.422869</td>\n",
       "    </tr>\n",
       "    <tr>\n",
       "      <th>292</th>\n",
       "      <td>40-49</td>\n",
       "      <td>364.0</td>\n",
       "      <td>NaN</td>\n",
       "      <td>2021-05-01</td>\n",
       "      <td>193.926478</td>\n",
       "    </tr>\n",
       "    <tr>\n",
       "      <th>294</th>\n",
       "      <td>60-69</td>\n",
       "      <td>374.0</td>\n",
       "      <td>1880.0</td>\n",
       "      <td>2021-05-01</td>\n",
       "      <td>198.936170</td>\n",
       "    </tr>\n",
       "    <tr>\n",
       "      <th>295</th>\n",
       "      <td>70-79</td>\n",
       "      <td>395.0</td>\n",
       "      <td>1898.0</td>\n",
       "      <td>2021-05-01</td>\n",
       "      <td>208.113804</td>\n",
       "    </tr>\n",
       "    <tr>\n",
       "      <th>296</th>\n",
       "      <td>80+</td>\n",
       "      <td>375.0</td>\n",
       "      <td>1871.0</td>\n",
       "      <td>2021-05-01</td>\n",
       "      <td>200.427579</td>\n",
       "    </tr>\n",
       "  </tbody>\n",
       "</table>\n",
       "</div>"
      ],
      "text/plain": [
       "    age_band  doac_3_months  population       date        rate\n",
       "289     0-19          376.0      1867.0 2021-05-01  201.392608\n",
       "290    20-29          381.0      1908.0 2021-05-01  199.685535\n",
       "291    30-39          379.0      1854.0 2021-05-01  204.422869\n",
       "292    40-49          364.0         NaN 2021-05-01  193.926478\n",
       "294    60-69          374.0      1880.0 2021-05-01  198.936170\n",
       "295    70-79          395.0      1898.0 2021-05-01  208.113804\n",
       "296      80+          375.0      1871.0 2021-05-01  200.427579"
      ]
     },
     "execution_count": 16,
     "metadata": {},
     "output_type": "execute_result"
    }
   ],
   "source": [
    "age_df = pd.read_csv('../output/measure_doac_rx_mechanical_valve_3_month_age_rate.csv', parse_dates=['date'])\n",
    "\n",
    "def calculate_rate(df, value_col, population_col, rate_per=1000):\n",
    "    num_per_thousand = (df[value_col]/df[population_col])*rate_per\n",
    "    return num_per_thousand\n",
    "\n",
    "age_df['rate'] = calculate_rate(age_df, 'doac_3_months', 'population')\n",
    "\n",
    "age_df_now = age_df[age_df['date'] == '2021-05-01']\n",
    "age_df_now = age_df_now.drop('value', axis=1)\n",
    "\n",
    "age_df_now, dropped_rows, suppressed_count, population_suppressed_count = group_low_values(age_df_now, 'doac_3_months', 'population', 'age_band')\n",
    "age_df_now"
   ]
  },
  {
   "cell_type": "code",
   "execution_count": 17,
   "id": "4efc2aa8-b743-4dbb-817e-20643f472502",
   "metadata": {},
   "outputs": [
    {
     "name": "stdout",
     "output_type": "stream",
     "text": [
      "suppressed count: 356.0\n",
      "population suppressed: 1896\n",
      "['0' '50-59']\n"
     ]
    }
   ],
   "source": [
    "print(f'suppressed count: {suppressed_count}')\n",
    "print(f'population suppressed: {population_suppressed_count}')\n",
    "print(dropped_rows)"
   ]
  }
 ],
 "metadata": {
  "kernelspec": {
   "display_name": "Python 3",
   "language": "python",
   "name": "python3"
  },
  "language_info": {
   "codemirror_mode": {
    "name": "ipython",
    "version": 3
   },
   "file_extension": ".py",
   "mimetype": "text/x-python",
   "name": "python",
   "nbconvert_exporter": "python",
   "pygments_lexer": "ipython3",
   "version": "3.9.2"
  }
 },
 "nbformat": 4,
 "nbformat_minor": 5
}
