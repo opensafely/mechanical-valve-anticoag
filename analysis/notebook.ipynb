{
 "cells": [
  {
   "cell_type": "code",
   "execution_count": 2,
   "id": "latest-edwards",
   "metadata": {},
   "outputs": [
    {
     "ename": "ModuleNotFoundError",
     "evalue": "No module named 'ebmdatalab'",
     "output_type": "error",
     "traceback": [
      "\u001b[0;31m---------------------------------------------------------------------------\u001b[0m",
      "\u001b[0;31mModuleNotFoundError\u001b[0m                       Traceback (most recent call last)",
      "\u001b[0;32m<ipython-input-2-b0e3da93a14b>\u001b[0m in \u001b[0;36m<module>\u001b[0;34m\u001b[0m\n\u001b[1;32m      7\u001b[0m \u001b[0;32mimport\u001b[0m \u001b[0mpandas\u001b[0m \u001b[0;32mas\u001b[0m \u001b[0mpd\u001b[0m\u001b[0;34m\u001b[0m\u001b[0;34m\u001b[0m\u001b[0m\n\u001b[1;32m      8\u001b[0m \u001b[0;32mimport\u001b[0m \u001b[0mnumpy\u001b[0m \u001b[0;32mas\u001b[0m \u001b[0mnp\u001b[0m\u001b[0;34m\u001b[0m\u001b[0;34m\u001b[0m\u001b[0m\n\u001b[0;32m----> 9\u001b[0;31m \u001b[0;32mfrom\u001b[0m \u001b[0mutilities\u001b[0m \u001b[0;32mimport\u001b[0m \u001b[0;34m*\u001b[0m\u001b[0;34m\u001b[0m\u001b[0;34m\u001b[0m\u001b[0m\n\u001b[0m\u001b[1;32m     10\u001b[0m \u001b[0;34m\u001b[0m\u001b[0m\n\u001b[1;32m     11\u001b[0m \u001b[0mregister_matplotlib_converters\u001b[0m\u001b[0;34m(\u001b[0m\u001b[0;34m)\u001b[0m\u001b[0;34m\u001b[0m\u001b[0;34m\u001b[0m\u001b[0m\n",
      "\u001b[0;32m~/Documents/DataLab/mechanical-valve-anticoag/analysis/utilities.py\u001b[0m in \u001b[0;36m<module>\u001b[0;34m\u001b[0m\n\u001b[0;32m----> 1\u001b[0;31m \u001b[0;32mfrom\u001b[0m \u001b[0mebmdatalab\u001b[0m \u001b[0;32mimport\u001b[0m \u001b[0mcharts\u001b[0m\u001b[0;34m\u001b[0m\u001b[0;34m\u001b[0m\u001b[0m\n\u001b[0m\u001b[1;32m      2\u001b[0m \u001b[0;32mimport\u001b[0m \u001b[0mpandas\u001b[0m \u001b[0;32mas\u001b[0m \u001b[0mpd\u001b[0m\u001b[0;34m\u001b[0m\u001b[0;34m\u001b[0m\u001b[0m\n\u001b[1;32m      3\u001b[0m \u001b[0;32mimport\u001b[0m \u001b[0mmatplotlib\u001b[0m\u001b[0;34m.\u001b[0m\u001b[0mpyplot\u001b[0m \u001b[0;32mas\u001b[0m \u001b[0mplt\u001b[0m\u001b[0;34m\u001b[0m\u001b[0;34m\u001b[0m\u001b[0m\n\u001b[1;32m      4\u001b[0m \u001b[0;32mimport\u001b[0m \u001b[0mplotly\u001b[0m\u001b[0;34m.\u001b[0m\u001b[0mgraph_objects\u001b[0m \u001b[0;32mas\u001b[0m \u001b[0mgo\u001b[0m\u001b[0;34m\u001b[0m\u001b[0;34m\u001b[0m\u001b[0m\n\u001b[1;32m      5\u001b[0m \u001b[0;32mimport\u001b[0m \u001b[0mnumpy\u001b[0m \u001b[0;32mas\u001b[0m \u001b[0mnp\u001b[0m\u001b[0;34m\u001b[0m\u001b[0;34m\u001b[0m\u001b[0m\n",
      "\u001b[0;31mModuleNotFoundError\u001b[0m: No module named 'ebmdatalab'"
     ]
    }
   ],
   "source": [
    "from IPython.display import HTML\n",
    "import matplotlib.pyplot as plt\n",
    "from pandas.plotting import register_matplotlib_converters\n",
    "from IPython.display import HTML, display\n",
    "import json\n",
    "from collections import Counter\n",
    "import pandas as pd\n",
    "import numpy as np\n",
    "from utilities import *\n",
    "\n",
    "register_matplotlib_converters()\n",
    "pd.set_option('display.float_format', '{:.0f}'.format)\n",
    "pd.set_option('display.max_colwidth', 100)\n",
    "%matplotlib inline"
   ]
  },
  {
   "cell_type": "code",
   "execution_count": 4,
   "id": "prerequisite-newton",
   "metadata": {},
   "outputs": [],
   "source": [
    "df = pd.read_csv('../output/measure_doac_rx_mechanical_valve_rate.csv', parse_dates=['date'])\n",
    "\n",
    "def calculate_rate(df, value_col, population_col, rate_per=1000):\n",
    "    num_per_thousand = df[value_col]/(df[population_col]/rate_per)\n",
    "    return num_per_thousand\n",
    "\n",
    "df['rate'] = calculate_rate(df, 'doac', 'population')\n",
    "\n",
    "codelist = pd.read_csv('../codelists/opensafely-mechanical-or-artificial-valves.csv')\n"
   ]
  },
  {
   "cell_type": "markdown",
   "id": "light-explosion",
   "metadata": {},
   "source": [
    "## DOAC Use in Patients with Mechanical Heart Valves\n"
   ]
  },
  {
   "cell_type": "markdown",
   "id": "dcf99254-244d-45f9-9a19-e6644a0fe144",
   "metadata": {},
   "source": [
    "### Total Number"
   ]
  },
  {
   "cell_type": "code",
   "execution_count": 5,
   "id": "592aa0fb-887d-4450-930b-979e8a72e624",
   "metadata": {},
   "outputs": [
    {
     "name": "stderr",
     "output_type": "stream",
     "text": [
      "<ipython-input-5-f1dc5b519c37>:39: SettingWithCopyWarning: \n",
      "A value is trying to be set on a copy of a slice from a DataFrame\n",
      "\n",
      "See the caveats in the documentation: https://pandas.pydata.org/pandas-docs/stable/user_guide/indexing.html#returning-a-view-versus-a-copy\n",
      "  df[rate_column][(df[numerator].isna())| (df[denominator].isna())] = np.nan\n"
     ]
    }
   ],
   "source": [
    "population = df.groupby(by='date')[['population']].sum().reset_index()\n",
    "events = df.groupby(by='date')[['doac']].mean().reset_index()\n",
    "total_df = df.groupby(by='date')[['rate']].mean().reset_index()\n",
    "\n",
    "total_df = total_df.merge(events, on='date').merge(population, on='date')\n",
    "\n",
    "def redact_small_numbers(df, n, numerator, denominator, rate_column):\n",
    "    \"\"\"\n",
    "    Takes counts df as input and suppresses low numbers.  Sequentially redacts\n",
    "    low numbers from numerator and denominator until count of redcted values >=n.\n",
    "    Rates corresponding to redacted values are also redacted.\n",
    "    \n",
    "    df: input df\n",
    "    n: threshold for low number suppression\n",
    "    numerator: numerator column to be redacted\n",
    "    denominator: denominator column to be redacted\n",
    "    \"\"\"\n",
    "    \n",
    "    def suppress_column(column):    \n",
    "        suppressed_count = column[column<=n].sum()\n",
    "        \n",
    "        #if 0 dont need to suppress anything\n",
    "        if suppressed_count == 0:\n",
    "            pass\n",
    "        \n",
    "        else:\n",
    "            df[column.name][df[column.name]<=n] = np.nan\n",
    "            \n",
    "\n",
    "            while suppressed_count <=n:\n",
    "                suppressed_count += column.min()\n",
    "                column.iloc[column.idxmin()] = np.nan   \n",
    "        return column\n",
    "    \n",
    "    \n",
    "    for column in [numerator, denominator]:\n",
    "        df[column] = suppress_column(df[column])\n",
    "    \n",
    "    df[rate_column][(df[numerator].isna())| (df[denominator].isna())] = np.nan\n",
    "    \n",
    "    return df    \n",
    "\n",
    "total_df = redact_small_numbers(total_df, 5, 'doac', 'population', 'rate')\n",
    "\n",
    "\n",
    "def plot_measures(df, title,column_to_plot, filename,category=False, y_label='Rate per 1000', interactive=True):\n",
    "\n",
    "    if interactive:\n",
    "\n",
    "        fig = go.Figure()\n",
    "\n",
    "        if category:\n",
    "            for unique_category in df[category].unique():\n",
    "\n",
    "                df_subset = df[df[category] == unique_category]\n",
    "                fig.add_trace(go.Scatter(\n",
    "                    x=df_subset['date'], y=df_subset[column_to_plot], name=unique_category))\n",
    "\n",
    "        else:\n",
    "            fig.add_trace(go.Scatter(\n",
    "                x=df['date'], y=df[column_to_plot]))\n",
    "\n",
    "        # Set title\n",
    "        fig.update_layout(\n",
    "            title_text=title,\n",
    "            hovermode='x',\n",
    "            title_x=0.5,\n",
    "            yaxis=dict(\n",
    "            range=[0, 7000]\n",
    "        )\n",
    "\n",
    "\n",
    "        )\n",
    "\n",
    "        fig.update_yaxes(title=y_label)\n",
    "        fig.update_xaxes(title=\"Date\")\n",
    "\n",
    "        # Add range slider\n",
    "        fig.update_layout(\n",
    "            xaxis=go.layout.XAxis(\n",
    "                rangeselector=dict(\n",
    "                    buttons=list([\n",
    "                        dict(count=1,\n",
    "                            label=\"1m\",\n",
    "                            step=\"month\",\n",
    "                            stepmode=\"backward\"),\n",
    "                        dict(count=6,\n",
    "                            label=\"6m\",\n",
    "                            step=\"month\",\n",
    "                            stepmode=\"backward\"),\n",
    "\n",
    "                        dict(count=1,\n",
    "                            label=\"1y\",\n",
    "                            step=\"year\",\n",
    "                            stepmode=\"backward\"),\n",
    "                        dict(step=\"all\")\n",
    "                    ])\n",
    "                ),\n",
    "                rangeslider=dict(\n",
    "                    visible=True\n",
    "                ),\n",
    "                type=\"date\"\n",
    "            )\n",
    "        )\n",
    "\n",
    "        fig.show()\n",
    "\n",
    "    else:\n",
    "\n",
    "        if category:\n",
    "            for unique_category in df[category].unique():\n",
    "\n",
    "                df_subset = df[df[category] == unique_category]\n",
    "\n",
    "                plt.plot(df_subset['date'], df_subset[column_to_plot], marker='o')\n",
    "        else:\n",
    "            plt.plot(df['date'], df[column_to_plot])\n",
    "\n",
    "        plt.ylabel(y_label)\n",
    "        plt.xlabel('Date')\n",
    "        plt.ylim(bottom=0)\n",
    "        plt.xticks(rotation='vertical')\n",
    "        plt.title(title)\n",
    "\n",
    "        if category:\n",
    "            plt.legend(df[category].unique(), bbox_to_anchor=(\n",
    "                1.04, 1), loc=\"upper left\")\n",
    "\n",
    "        else:\n",
    "            pass\n",
    "        plt.tight_layout()\n",
    "        plt.savefig(f'../output/measure_{filename}.jpeg')\n",
    "        plt.show()\n",
    "        \n",
    "        plt.clf()"
   ]
  },
  {
   "cell_type": "code",
   "execution_count": 6,
   "id": "87656f4b-0bf3-4d30-a219-e99fe60f8d02",
   "metadata": {},
   "outputs": [
    {
     "data": {
      "image/png": "[encoded data removed]",
      "text/plain": [
       "<Figure size 432x288 with 1 Axes>"
      ]
     },
     "metadata": {
      "needs_background": "light"
     },
     "output_type": "display_data"
    },
    {
     "data": {
      "text/plain": [
       "<Figure size 432x288 with 0 Axes>"
      ]
     },
     "metadata": {},
     "output_type": "display_data"
    }
   ],
   "source": [
    "plot_measures(total_df, title='DOAC prescribing rate per 1000 patients with a mechanical valve', column_to_plot='rate', category=False, y_label='Rate per 1000', interactive=False, filename=\"total\")\n"
   ]
  },
  {
   "cell_type": "markdown",
   "id": "faced-soldier",
   "metadata": {},
   "source": [
    "### STP Breakdown"
   ]
  },
  {
   "cell_type": "code",
   "execution_count": null,
   "id": "administrative-sodium",
   "metadata": {
    "code_folding": []
   },
   "outputs": [],
   "source": [
    "df_stp = pd.read_csv('../output/measure_stp_rate.csv', parse_dates=['date'])\n",
    "df_stp['rate'] = calculate_rate(df_stp, 'doac', 'population')\n",
    "\n",
    "deciles_chart(df_stp, period_column='date', column='rate', title='Decile chart',ylabel='rate per 1000', interactive=False)\n",
    "plt.tight_layout()\n",
    "plt.savefig('../output/measure_stp.jpeg')"
   ]
  },
  {
   "cell_type": "markdown",
   "id": "def15f80-c9bd-4516-bf75-b6e33bb96766",
   "metadata": {},
   "source": [
    "### Mechanical Valve Type\n",
    "\n",
    "Mechanical valve type of those with mechanical valve currently prescribed a DOAC"
   ]
  },
  {
   "cell_type": "code",
   "execution_count": 7,
   "id": "6c7b9ba2-c046-4e35-8cc8-01856d59e88b",
   "metadata": {},
   "outputs": [],
   "source": [
    "def group_low_values(df, value_col, population_col, term_col):\n",
    "    \n",
    "    df = df[df[value_col] > 0]\n",
    "    suppressed_count = df[df[value_col]<=5][value_col].sum()\n",
    "    population_suppressed_count = df[df[value_col]<=5][population_col].sum()\n",
    "    \n",
    "    if suppressed_count == 0:\n",
    "        pass\n",
    "\n",
    "    else:\n",
    "        df[value_col][df[value_col] <=5]  = np.nan\n",
    "\n",
    "        while suppressed_count <=10:\n",
    "\n",
    "            suppressed_count += df[value_col].min()\n",
    "            df[value_col].iloc[df[value_col].idxmin()] = np.nan \n",
    "            \n",
    "            population_suppressed_count += df[population_col].iloc[df[value_col].idxmin()]\n",
    "            df[population_col].iloc[df[value_col].idxmin()] = np.nan\n",
    "\n",
    "\n",
    "    dropped_rows = df[df[value_col].isnull()][term_col].values\n",
    "\n",
    "    df = df[df[value_col].notnull()]\n",
    "    \n",
    "    \n",
    "    \n",
    "    return df, dropped_rows, suppressed_count, population_suppressed_count"
   ]
  },
  {
   "cell_type": "code",
   "execution_count": 9,
   "id": "e05557e3-e396-4ae0-831f-7fef379eacc7",
   "metadata": {},
   "outputs": [],
   "source": [
    "valve_type_df = pd.read_csv('../output/measure_doac_rx_mechanical_valve_3_month_valve_code_rate.csv', parse_dates=['date'])\n",
    "valve_type_df_now = valve_type_df[valve_type_df['date']== '2021-05-01']\n",
    "valve_type_df_now = valve_type_df_now.drop('value', axis=1)\n",
    "\n",
    "\n",
    "\n",
    "valve_type_df_now = valve_type_df_now.merge(codelist, left_on='mechanical_valve_code', right_on='code', how='left')\n",
    "valve_type_df_now = valve_type_df_now.drop(columns='code')\n",
    "valve_type_df_now\n",
    "\n",
    "\n",
    "valve_type_df_now, dropped_rows, suppressed_count, population_suppressed_count = group_low_values(valve_type_df_now, 'doac_3_months', 'population', 'term')\n"
   ]
  },
  {
   "cell_type": "code",
   "execution_count": 10,
   "id": "863d8066-fade-428c-978e-367647f3f2ab",
   "metadata": {},
   "outputs": [
    {
     "data": {
      "text/html": [
       "<div>\n",
       "<style scoped>\n",
       "    .dataframe tbody tr th:only-of-type {\n",
       "        vertical-align: middle;\n",
       "    }\n",
       "\n",
       "    .dataframe tbody tr th {\n",
       "        vertical-align: top;\n",
       "    }\n",
       "\n",
       "    .dataframe thead th {\n",
       "        text-align: right;\n",
       "    }\n",
       "</style>\n",
       "<table border=\"1\" class=\"dataframe\">\n",
       "  <thead>\n",
       "    <tr style=\"text-align: right;\">\n",
       "      <th></th>\n",
       "      <th>mechanical_valve_code</th>\n",
       "      <th>doac_3_months</th>\n",
       "      <th>population</th>\n",
       "      <th>date</th>\n",
       "      <th>term</th>\n",
       "    </tr>\n",
       "  </thead>\n",
       "  <tbody>\n",
       "    <tr>\n",
       "      <th>0</th>\n",
       "      <td>NaN</td>\n",
       "      <td>2379.0</td>\n",
       "      <td>12000</td>\n",
       "      <td>2021-05-01</td>\n",
       "      <td>NaN</td>\n",
       "    </tr>\n",
       "    <tr>\n",
       "      <th>1</th>\n",
       "      <td>174920003.0</td>\n",
       "      <td>621.0</td>\n",
       "      <td>3000</td>\n",
       "      <td>2021-05-01</td>\n",
       "      <td>Prosthetic mitral valve replacement (&amp; [Bjork ...</td>\n",
       "    </tr>\n",
       "  </tbody>\n",
       "</table>\n",
       "</div>"
      ],
      "text/plain": [
       "   mechanical_valve_code  doac_3_months  population       date  \\\n",
       "0                    NaN         2379.0       12000 2021-05-01   \n",
       "1            174920003.0          621.0        3000 2021-05-01   \n",
       "\n",
       "                                                term  \n",
       "0                                                NaN  \n",
       "1  Prosthetic mitral valve replacement (& [Bjork ...  "
      ]
     },
     "execution_count": 10,
     "metadata": {},
     "output_type": "execute_result"
    }
   ],
   "source": [
    "valve_type_df_now"
   ]
  },
  {
   "cell_type": "code",
   "execution_count": 12,
   "id": "70623aa4-3805-4a01-864e-d73043d281ac",
   "metadata": {},
   "outputs": [
    {
     "name": "stdout",
     "output_type": "stream",
     "text": [
      "suppressed count: 0.0\n",
      "population suppressed: 0\n",
      "[]\n"
     ]
    }
   ],
   "source": [
    "print(f'suppressed count: {suppressed_count}')\n",
    "print(f'population suppressed: {population_suppressed_count}')\n",
    "print(dropped_rows)"
   ]
  },
  {
   "cell_type": "markdown",
   "id": "impossible-walnut",
   "metadata": {},
   "source": [
    "### Demographic breakdown"
   ]
  },
  {
   "cell_type": "code",
   "execution_count": null,
   "id": "blind-virus",
   "metadata": {},
   "outputs": [],
   "source": [
    "# from collections import Counter\n",
    "\n",
    "# recent_df = pd.read_csv('../output/input_demographics.csv')\n",
    "# demographic_df = \n",
    "# demographic_df_doac = demographic_df[(demographic_df['mechanical_valve']==1)&(demographic_df['doac']==1)]\n",
    "\n",
    "\n",
    "\n",
    "# demographics = ['sex', 'age_band', 'atrial_fib', 'imd', 'eth2001']\n",
    "# demographic_counts = {}\n",
    "\n",
    "# for dem in demographics:\n",
    "    \n",
    "#     if dem == \"imd\":\n",
    "#         demographic_df_doac[\"imd\"] = pd.qcut(demographic_df_doac[\"imd\"], q=5,duplicates=\"drop\")  \n",
    "#     column = demographic_df_doac[dem]\n",
    "#     count_dict = Counter(column.dropna())\n",
    "    \n",
    "#     demographic_counts[dem] = count_dict\n"
   ]
  },
  {
   "cell_type": "markdown",
   "id": "enabling-respect",
   "metadata": {},
   "source": [
    "#### Sex"
   ]
  },
  {
   "cell_type": "code",
   "execution_count": null,
   "id": "sized-fitting",
   "metadata": {},
   "outputs": [],
   "source": [
    "# sex_dict = demographic_counts['sex']\n",
    "# sex_df = pd.DataFrame.from_dict(sex_dict, orient='index').rename(columns={'index': 'row', 0: 'count'})\n",
    "\n",
    "# total = sex_df['count'].sum()\n",
    "\n",
    "# # other_count = 0\n",
    "# # def get_other_count(row, other_count):\n",
    "# #     count = row['count']\n",
    "# #     if count<=5:\n",
    "# #         other_count+=count\n",
    "\n",
    "# # sex_df.apply(lambda row: get_other_count(row, other_count), axis=1)\n",
    "# # sex_df = sex_df[sex_df['count']>5]      \n",
    "\n",
    "# # if other_count >5:\n",
    "# #     sex_df = sex_df.append(pd.DataFrame([other_count], columns=['count']))\n",
    "\n",
    "\n",
    "# def calculate_percent(row, total):\n",
    "#     row['%'] = (row['count']/total)*100\n",
    "#     return row\n",
    "# sex_df = sex_df.apply(lambda row: calculate_percent(row, total), axis=1)\n",
    "\n",
    "\n",
    "# sex_df"
   ]
  },
  {
   "cell_type": "markdown",
   "id": "peripheral-joseph",
   "metadata": {},
   "source": [
    "#### Ethnicity"
   ]
  },
  {
   "cell_type": "code",
   "execution_count": null,
   "id": "offshore-angel",
   "metadata": {},
   "outputs": [],
   "source": [
    "# ethnicity_dict = demographic_counts['eth2001']\n",
    "# ethnicity_df = pd.DataFrame.from_dict(ethnicity_dict, orient='index').rename(columns={'index': 'row', 0: 'count'})\n",
    "\n",
    "# total = ethnicity_df['count'].sum()\n",
    "\n",
    "# # other_count = 0\n",
    "# # def get_other_count(row, other_count):\n",
    "# #     count = row['count']\n",
    "# #     if count<=5:\n",
    "# #         other_count+=count\n",
    "\n",
    "# # ethnicity_df.apply(lambda row: get_other_count(row, other_count), axis=1)\n",
    "# # ethnicity_df = ethnicity_df[ethnicity_df['count']>5]      \n",
    "\n",
    "# # if other_count >5:\n",
    "# #     ethnicity_df = ethnicity_df.append(pd.DataFrame([other_count], columns=['count']))\n",
    "\n",
    "\n",
    "# def calculate_percent(row, total):\n",
    "#     row['%'] = (row['count']/total)*100\n",
    "#     return row\n",
    "# ethnicity_df = ethnicity_df.apply(lambda row: calculate_percent(row, total), axis=1)\n",
    "\n",
    "\n",
    "# ethnicity_df"
   ]
  },
  {
   "cell_type": "markdown",
   "id": "confirmed-failure",
   "metadata": {},
   "source": [
    "#### IMD"
   ]
  },
  {
   "cell_type": "code",
   "execution_count": null,
   "id": "demographic-diary",
   "metadata": {},
   "outputs": [],
   "source": [
    "# imd_dict = demographic_counts['imd']\n",
    "# imd_df = pd.DataFrame.from_dict(imd_dict, orient='index').rename(columns={'index': 'row', 0: 'count'})\n",
    "\n",
    "# total = imd_df['count'].sum()\n",
    "\n",
    "# # other_count = 0\n",
    "# # def get_other_count(row, other_count):\n",
    "# #     count = row['count']\n",
    "# #     if count<=5:\n",
    "# #         other_count+=count\n",
    "\n",
    "# # imd_df.apply(lambda row: get_other_count(row, other_count), axis=1)\n",
    "# # imd_df = imd_df[imd_df['count']>5]      \n",
    "\n",
    "# # if other_count >5:\n",
    "# #     imd_df = imd_df.append(pd.DataFrame([other_count], columns=['count']))\n",
    "\n",
    "\n",
    "# def calculate_percent(row, total):\n",
    "#     row['%'] = (row['count']/total)*100\n",
    "#     return row\n",
    "# imd_df = imd_df.apply(lambda row: calculate_percent(row, total), axis=1)\n",
    "\n",
    "\n",
    "# imd_df"
   ]
  },
  {
   "cell_type": "markdown",
   "id": "american-vegetation",
   "metadata": {},
   "source": [
    "#### AF"
   ]
  },
  {
   "cell_type": "code",
   "execution_count": null,
   "id": "presidential-jason",
   "metadata": {},
   "outputs": [],
   "source": [
    "# af_dict = demographic_counts['atrial_fib']\n",
    "# af_df = pd.DataFrame.from_dict(af_dict, orient='index').rename(columns={'index': 'row', 0: 'count'})\n",
    "\n",
    "# total = af_df['count'].sum()\n",
    "\n",
    "# # other_count = 0\n",
    "# # def get_other_count(row, other_count):\n",
    "# #     count = row['count']\n",
    "# #     if count<=5:\n",
    "# #         other_count+=count\n",
    "\n",
    "# # af_df.apply(lambda row: get_other_count(row, other_count), axis=1)\n",
    "# # af_df = af_df[af_df['count']>5]      \n",
    "\n",
    "# # if other_count >5:\n",
    "# #     af_df = af_df.append(pd.DataFrame([other_count], columns=['count']))\n",
    "\n",
    "\n",
    "# def calculate_percent(row, total):\n",
    "#     row['%'] = (row['count']/total)*100\n",
    "#     return row\n",
    "# af_df = af_df.apply(lambda row: calculate_percent(row, total), axis=1)\n",
    "\n",
    "\n",
    "# af_df"
   ]
  },
  {
   "cell_type": "markdown",
   "id": "operational-lambda",
   "metadata": {},
   "source": [
    "#### Age Band"
   ]
  },
  {
   "cell_type": "code",
   "execution_count": null,
   "id": "northern-senate",
   "metadata": {},
   "outputs": [],
   "source": [
    "# age_dict = demographic_counts['age_band']\n",
    "# age_df = pd.DataFrame.from_dict(age_dict, orient='index').rename(columns={'index': 'row', 0: 'count'})\n",
    "\n",
    "# total = age_df['count'].sum()\n",
    "\n",
    "# # other_count = 0\n",
    "# # def get_other_count(row, other_count):\n",
    "# #     count = row['count']\n",
    "# #     if count<=5:\n",
    "# #         other_count+=count\n",
    "\n",
    "# # age_df.apply(lambda row: get_other_count(row, other_count), axis=1)\n",
    "# # age_df = age_df[age_df['count']>5]      \n",
    "\n",
    "# # if other_count >5:\n",
    "# #     age_df = age_df.append(pd.DataFrame([other_count], columns=['count']))\n",
    "\n",
    "\n",
    "# def calculate_percent(row, total):\n",
    "#     row['%'] = (row['count']/total)*100\n",
    "#     return row\n",
    "# age_df = age_df.apply(lambda row: calculate_percent(row, total), axis=1)\n",
    "\n",
    "\n",
    "# age_df"
   ]
  }
 ],
 "metadata": {
  "kernelspec": {
   "display_name": "Python 3",
   "language": "python",
   "name": "python3"
  },
  "language_info": {
   "codemirror_mode": {
    "name": "ipython",
    "version": 3
   },
   "file_extension": ".py",
   "mimetype": "text/x-python",
   "name": "python",
   "nbconvert_exporter": "python",
   "pygments_lexer": "ipython3",
   "version": "3.9.2"
  }
 },
 "nbformat": 4,
 "nbformat_minor": 5
}
